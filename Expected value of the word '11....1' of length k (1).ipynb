{
 "cells": [
  {
   "cell_type": "code",
   "execution_count": 132,
   "id": "518173de-7bfb-416f-915b-8058b8134697",
   "metadata": {},
   "outputs": [],
   "source": [
    "import numpy  as np\n",
    "import pandas as pd\n",
    "import math"
   ]
  },
  {
   "cell_type": "markdown",
   "id": "53cb52b0-2999-43f1-9274-b22693f43b05",
   "metadata": {},
   "source": [
    "# Der Algorithmus zum Erzeugen der Dyckwörter mithilfe der Positionen von -1 \n",
    "## Dieser Algorithmus ( Funktion ) gibt raus die Dyckwörter , die Posititionen von -1's und die Frequenzen der Dyck wörter"
   ]
  },
  {
   "cell_type": "code",
   "execution_count": 133,
   "id": "56c09756-09c2-4d23-a3f8-ebacd0abe8da",
   "metadata": {},
   "outputs": [],
   "source": [
    "def Posintions_of_minus_one(k):\n",
    " if k%2==1:\n",
    "        return('expected value is zero')\n",
    " else:\n",
    "    #gernrating the dyck words with the length (k)\n",
    "    k_prime = int(k/2)\n",
    "    #the array of the positions of the 1's (the \"-\")\n",
    "    POS=np.zeros([1,k_prime], dtype = int)\n",
    "    #the number of the perfect matching of the set {1,2k}, which ist equivalent to each Dyck Word\n",
    "    Coeff=np.ones([0,1], int)\n",
    "    A=np.zeros([1,k_prime], dtype = int)\n",
    "    #the Dyck words represented mit \"+1\",\"-1\"\n",
    "    Dyck_Words=np.full([0,k], +1)\n",
    "    #the first( smallest ) word\n",
    "    for i in range(0,k_prime):\n",
    "      POS[0][i]=2*(i+1)\n",
    "      A[0][i]=2*(i+1)\n",
    "    ind=True\n",
    "    while ind == True:\n",
    "        ind=False\n",
    "        C=np.full([1,k], +1)\n",
    "        B=np.ones([1,1], dtype = int)\n",
    "        for i in range(0,k_prime):\n",
    "            B=B*(A[0][i]+1-2*(i+1))\n",
    "            C[0][A[0][i]-1]=-1\n",
    "        Coeff=np.concatenate((Coeff,B),axis=0)\n",
    "        Dyck_Words = np.concatenate((Dyck_Words,C),axis=0)\n",
    "        for i in range(k_prime-2,-1,-1):\n",
    "            if A[0][i]< k_prime+1+i:\n",
    "               A[0][i]=A[0][i]+1\n",
    "               for j  in range(i+1,k_prime-1):\n",
    "                   A[0][j]=max(A[0][j-1]+1,2*(j+1))\n",
    "               ind=True\n",
    "               POS=np.concatenate((POS,A), axis = 0)\n",
    "               break\n",
    "    return(Dyck_Words,Coeff)"
   ]
  },
  {
   "cell_type": "markdown",
   "id": "66225f5a-739c-48a5-b881-49329f9529f7",
   "metadata": {},
   "source": [
    "## Die Anzahl der Matchings einer Menge $[k]$ ist gleich $(k-1)!!$ wenn $k$  gerade ist \n",
    "### $$(k-1)!!=\\frac{k!}{2^{\\frac{k}{2}}\\frac{k}{2}!}$$\n",
    "## Die Anzahl der Dyckwörter der Länge $k$ ist gleich  die $\\frac{k}{2}$-te Catalan-Nummer\n",
    "### $$C_{\\frac{k}{2}}={\\frac {1}{\\frac{k}{2}+1}}{k \\choose \\frac{k}{2}}={\\frac {k!}{(\\frac{k}{2}+1)!\\,\\frac{k}{2}!}}$$"
   ]
  },
  {
   "cell_type": "code",
   "execution_count": 163,
   "id": "bcaf7109-3cc6-49a0-877d-4022896941b1",
   "metadata": {},
   "outputs": [],
   "source": [
    "k=20"
   ]
  },
  {
   "cell_type": "code",
   "execution_count": 165,
   "id": "ea145e60-dba1-46bc-9b14-be22f92f698f",
   "metadata": {},
   "outputs": [],
   "source": [
    "[Dyck_words,frequency_of_Dyckwords]=Posintions_of_minus_one(k)\n",
    "k_minus_1_double_factorial=math.factorial(k)/(2**int(k/2)*math.factorial(int(k/2)))\n",
    "catlan_number_k_half=math.factorial(k)/(math.factorial(int(k/2)+1)*math.factorial(int(k/2)))"
   ]
  },
  {
   "cell_type": "code",
   "execution_count": 166,
   "id": "0c61e4ee-d5cd-4f27-a31c-8c2790a1ba9b",
   "metadata": {},
   "outputs": [],
   "source": [
    "the_expected_value_of_k_word_of_ones=[]\n",
    "for i in range(len(Dyck_words)):\n",
    "    the_expected_value_of_k_word_of_ones.append([frequency_of_Dyckwords[i],Dyck_words[i]])"
   ]
  },
  {
   "cell_type": "code",
   "execution_count": 167,
   "id": "f73d9b81-9aa6-423c-9910-391dc94132ad",
   "metadata": {},
   "outputs": [],
   "source": [
    "Df_the_expected_value_of_k_word_of_ones=pd.DataFrame(the_expected_value_of_k_word_of_ones,columns=['frequency','Dyckword'])"
   ]
  },
  {
   "cell_type": "code",
   "execution_count": 168,
   "id": "2c64c647-9f76-4db0-aedc-66a57bde0f68",
   "metadata": {},
   "outputs": [
    {
     "data": {
      "text/html": [
       "<div>\n",
       "<style scoped>\n",
       "    .dataframe tbody tr th:only-of-type {\n",
       "        vertical-align: middle;\n",
       "    }\n",
       "\n",
       "    .dataframe tbody tr th {\n",
       "        vertical-align: top;\n",
       "    }\n",
       "\n",
       "    .dataframe thead th {\n",
       "        text-align: right;\n",
       "    }\n",
       "</style>\n",
       "<table border=\"1\" class=\"dataframe\">\n",
       "  <thead>\n",
       "    <tr style=\"text-align: right;\">\n",
       "      <th></th>\n",
       "      <th>frequency</th>\n",
       "      <th>Dyckword</th>\n",
       "    </tr>\n",
       "  </thead>\n",
       "  <tbody>\n",
       "    <tr>\n",
       "      <th>0</th>\n",
       "      <td>[1]</td>\n",
       "      <td>[1, -1, 1, -1, 1, -1, 1, -1, 1, -1, 1, -1, 1, ...</td>\n",
       "    </tr>\n",
       "    <tr>\n",
       "      <th>1</th>\n",
       "      <td>[2]</td>\n",
       "      <td>[1, -1, 1, -1, 1, -1, 1, -1, 1, -1, 1, -1, 1, ...</td>\n",
       "    </tr>\n",
       "    <tr>\n",
       "      <th>2</th>\n",
       "      <td>[2]</td>\n",
       "      <td>[1, -1, 1, -1, 1, -1, 1, -1, 1, -1, 1, -1, 1, ...</td>\n",
       "    </tr>\n",
       "    <tr>\n",
       "      <th>3</th>\n",
       "      <td>[4]</td>\n",
       "      <td>[1, -1, 1, -1, 1, -1, 1, -1, 1, -1, 1, -1, 1, ...</td>\n",
       "    </tr>\n",
       "    <tr>\n",
       "      <th>4</th>\n",
       "      <td>[6]</td>\n",
       "      <td>[1, -1, 1, -1, 1, -1, 1, -1, 1, -1, 1, -1, 1, ...</td>\n",
       "    </tr>\n",
       "    <tr>\n",
       "      <th>...</th>\n",
       "      <td>...</td>\n",
       "      <td>...</td>\n",
       "    </tr>\n",
       "    <tr>\n",
       "      <th>16791</th>\n",
       "      <td>[2177280]</td>\n",
       "      <td>[1, 1, 1, 1, 1, 1, 1, 1, 1, -1, -1, -1, -1, 1,...</td>\n",
       "    </tr>\n",
       "    <tr>\n",
       "      <th>16792</th>\n",
       "      <td>[2540160]</td>\n",
       "      <td>[1, 1, 1, 1, 1, 1, 1, 1, 1, -1, -1, -1, 1, -1,...</td>\n",
       "    </tr>\n",
       "    <tr>\n",
       "      <th>16793</th>\n",
       "      <td>[2903040]</td>\n",
       "      <td>[1, 1, 1, 1, 1, 1, 1, 1, 1, -1, -1, 1, -1, -1,...</td>\n",
       "    </tr>\n",
       "    <tr>\n",
       "      <th>16794</th>\n",
       "      <td>[3265920]</td>\n",
       "      <td>[1, 1, 1, 1, 1, 1, 1, 1, 1, -1, 1, -1, -1, -1,...</td>\n",
       "    </tr>\n",
       "    <tr>\n",
       "      <th>16795</th>\n",
       "      <td>[3628800]</td>\n",
       "      <td>[1, 1, 1, 1, 1, 1, 1, 1, 1, 1, -1, -1, -1, -1,...</td>\n",
       "    </tr>\n",
       "  </tbody>\n",
       "</table>\n",
       "<p>16796 rows × 2 columns</p>\n",
       "</div>"
      ],
      "text/plain": [
       "       frequency                                           Dyckword\n",
       "0            [1]  [1, -1, 1, -1, 1, -1, 1, -1, 1, -1, 1, -1, 1, ...\n",
       "1            [2]  [1, -1, 1, -1, 1, -1, 1, -1, 1, -1, 1, -1, 1, ...\n",
       "2            [2]  [1, -1, 1, -1, 1, -1, 1, -1, 1, -1, 1, -1, 1, ...\n",
       "3            [4]  [1, -1, 1, -1, 1, -1, 1, -1, 1, -1, 1, -1, 1, ...\n",
       "4            [6]  [1, -1, 1, -1, 1, -1, 1, -1, 1, -1, 1, -1, 1, ...\n",
       "...          ...                                                ...\n",
       "16791  [2177280]  [1, 1, 1, 1, 1, 1, 1, 1, 1, -1, -1, -1, -1, 1,...\n",
       "16792  [2540160]  [1, 1, 1, 1, 1, 1, 1, 1, 1, -1, -1, -1, 1, -1,...\n",
       "16793  [2903040]  [1, 1, 1, 1, 1, 1, 1, 1, 1, -1, -1, 1, -1, -1,...\n",
       "16794  [3265920]  [1, 1, 1, 1, 1, 1, 1, 1, 1, -1, 1, -1, -1, -1,...\n",
       "16795  [3628800]  [1, 1, 1, 1, 1, 1, 1, 1, 1, 1, -1, -1, -1, -1,...\n",
       "\n",
       "[16796 rows x 2 columns]"
      ]
     },
     "execution_count": 168,
     "metadata": {},
     "output_type": "execute_result"
    }
   ],
   "source": [
    "Df_the_expected_value_of_k_word_of_ones"
   ]
  }
 ],
 "metadata": {
  "kernelspec": {
   "display_name": "Python 3",
   "language": "python",
   "name": "python3"
  },
  "language_info": {
   "codemirror_mode": {
    "name": "ipython",
    "version": 3
   },
   "file_extension": ".py",
   "mimetype": "text/x-python",
   "name": "python",
   "nbconvert_exporter": "python",
   "pygments_lexer": "ipython3",
   "version": "3.9.2"
  }
 },
 "nbformat": 4,
 "nbformat_minor": 5
}
