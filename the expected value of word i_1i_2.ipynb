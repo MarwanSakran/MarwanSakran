{
 "cells": [
  {
   "cell_type": "markdown",
   "id": "319b11b2-4dcc-4a58-a069-df4e764dc524",
   "metadata": {},
   "source": [
    "# Der Erwartungswert einer iterierten Summe von AR(1) mit dem Wort $W=i_1i_2$"
   ]
  },
  {
   "cell_type": "code",
   "execution_count": 1,
   "id": "9ef90ccc-4341-47b9-bf0d-8795074f40d0",
   "metadata": {},
   "outputs": [],
   "source": [
    "import numpy as np\n",
    "import tensorflow as ts\n",
    "import pandas as pd\n",
    "import itertools\n",
    "from itertools import product\n",
    "from scipy import math \n",
    "from math import factorial"
   ]
  },
  {
   "cell_type": "markdown",
   "id": "4c2bed53-4b07-4c9a-8351-72216f4d9795",
   "metadata": {
    "tags": []
   },
   "source": [
    "## Um den Erwartungswert der interierten Summe eines AR(1) mit dem Wort $W=i_1i_2$ zu berechnen, habe ich die Folgende Formel in meiner Masterarbeit in Proposition 7.3.14. gefunden\n",
    "## \\begin{align}\\mathbf{E}[\\langle \\mathsf{ISS}(X), i_1i_2\\rangle]&=(-1)^{i\\operatorname{mod}2}i_1!i_2!(\\frac{\\sigma^2}{1+\\varphi})^{\\frac{i_1+i_2}{2}}\\sum_{\\ell=0}^{\\lfloor\\frac{i}{2}\\rfloor}\\frac{((1-\\varphi)\\varphi^{-1})^{(2\\ell+i\\operatorname{mod}2)}}{(\\lfloor\\frac{i_1}{2}\\rfloor-\\ell)!(\\lfloor\\frac{i_2}{2}\\rfloor-\\ell)!(2\\ell+i\\operatorname{mod}2)!}\\notag\\\\ &\\cdot\\langle \\mathsf{ISS}(Z), [+{2\\ell+i\\operatorname{mod}2}][-{2\\ell+i\\operatorname{mod}2}]\\rangle\\end{align}"
   ]
  },
  {
   "cell_type": "markdown",
   "id": "bd416841-4e86-4644-b0fe-7b9980c919ab",
   "metadata": {
    "tags": []
   },
   "source": [
    "## Der folgende Code berechnet die oben geschriebene Formel, indem dieser Code \n",
    "- die Einträge (Dyckwords) $[+{2\\ell+i\\operatorname{mod}2}][-{2\\ell+i\\operatorname{mod}2}]$.\n",
    "- das dazugehörige Potenzial $(2\\ell+i\\operatorname{mod}2)$.\n",
    "- und die dazugehörige Koeffizienten (Frequency) $\\frac{1}{(\\lfloor\\frac{i_1}{2}\\rfloor-\\ell)!(\\lfloor\\frac{i_2}{2}\\rfloor-\\ell)!(2\\ell+i\\operatorname{mod}2)!}$\n",
    "## berechnet"
   ]
  },
  {
   "cell_type": "code",
   "execution_count": 2,
   "id": "36d2d896-e21f-4a32-8cb4-8058cb896194",
   "metadata": {},
   "outputs": [],
   "source": [
    "def the_expected_value_of_word(i1,i2):\n",
    " if (i1+i2)%2==1:\n",
    "    return('the expected value is equal to zero')\n",
    " else:\n",
    "    W=np.array([i1,i2])\n",
    "    min_w=np.min(W)\n",
    "    i_1=int(np.floor(W[0]/2)+1)\n",
    "    i_2=int(np.floor(W[1]/2)+1)\n",
    "    X=list(range(int(np.floor(min_w/2)+1)))\n",
    "    Dyckwords=np.zeros([0,2])\n",
    "    frequency_Dyckword=np.zeros([0,1])\n",
    "    Power_of_the_constant=np.zeros([0,1])\n",
    "    for x in X:\n",
    "        P=2*x+min_w%2\n",
    "        Power_of_the_constant=np.append(Power_of_the_constant,P.reshape(1,1))\n",
    "        fr=1/(factorial(i_1-x)*factorial(i_2-x)*factorial(2*x+min_w%2))\n",
    "        frequency_Dyckword=np.append(frequency_Dyckword,fr)\n",
    "        D=np.array([0,0])\n",
    "        D[0]=2*x+min_w%2\n",
    "        D[1]=-(2*x+min_w%2)\n",
    "        Dyckwords=np.concatenate((Dyckwords,D.reshape(1,2)),axis=0)\n",
    "    the_expected_value_of_word_the_length2=[]\n",
    "    for i in range(len(Dyckwords)):\n",
    "                the_expected_value_of_word_the_length2.append([Power_of_the_constant[i],frequency_Dyckword[i],Dyckwords[i]])\n",
    "    Df_the_expected_value_of_word_the_length2=pd.DataFrame(the_expected_value_of_word_the_length2,columns=['(2\\ell+i mod 2)','frequency','Dyckword'])\n",
    "    return(Df_the_expected_value_of_word_the_length2)"
   ]
  },
  {
   "cell_type": "markdown",
   "id": "f5381c4e-52a8-4818-996a-4272c861fef8",
   "metadata": {},
   "source": [
    "### Die folgende Dataframe hat drei Reihen und sie berechnet die Drei Varianten in der oben geschiebene Summe, diese Varianten sind:\n",
    "- Das Potential $(2\\ell+i\\operatorname{mod}2)$\n",
    "- Die zum Eintrag gehörige Koeffizienten, welche als Frequenz 'frequency' in der Masterarbeit bzw in der Dataframe gennat wird frequency$=\\frac{1}{(\\lfloor\\frac{i_1}{2}\\rfloor-\\ell)!(\\lfloor\\frac{i_2}{2}\\rfloor-\\ell)!(2\\ell+i\\operatorname{mod}2)!}$.\n",
    "- Der Eintrag in der innneren interierten Summe mit dem Alphabet $'-1,+1'$,welcher Dyckword in der Dataframe genannt wird und gleich  $[+{2\\ell+i\\operatorname{mod}2}][-{2\\ell+i\\operatorname{mod}2}]$ ist."
   ]
  },
  {
   "cell_type": "code",
   "execution_count": 3,
   "id": "106afffa-6006-4d43-9390-943e60ef0c85",
   "metadata": {},
   "outputs": [
    {
     "data": {
      "text/html": [
       "<div>\n",
       "<style scoped>\n",
       "    .dataframe tbody tr th:only-of-type {\n",
       "        vertical-align: middle;\n",
       "    }\n",
       "\n",
       "    .dataframe tbody tr th {\n",
       "        vertical-align: top;\n",
       "    }\n",
       "\n",
       "    .dataframe thead th {\n",
       "        text-align: right;\n",
       "    }\n",
       "</style>\n",
       "<table border=\"1\" class=\"dataframe\">\n",
       "  <thead>\n",
       "    <tr style=\"text-align: right;\">\n",
       "      <th></th>\n",
       "      <th>(2\\ell+i mod 2)</th>\n",
       "      <th>frequency</th>\n",
       "      <th>Dyckword</th>\n",
       "    </tr>\n",
       "  </thead>\n",
       "  <tbody>\n",
       "    <tr>\n",
       "      <th>0</th>\n",
       "      <td>0.0</td>\n",
       "      <td>0.000069</td>\n",
       "      <td>[0.0, 0.0]</td>\n",
       "    </tr>\n",
       "    <tr>\n",
       "      <th>1</th>\n",
       "      <td>2.0</td>\n",
       "      <td>0.000868</td>\n",
       "      <td>[2.0, -2.0]</td>\n",
       "    </tr>\n",
       "    <tr>\n",
       "      <th>2</th>\n",
       "      <td>4.0</td>\n",
       "      <td>0.001157</td>\n",
       "      <td>[4.0, -4.0]</td>\n",
       "    </tr>\n",
       "    <tr>\n",
       "      <th>3</th>\n",
       "      <td>6.0</td>\n",
       "      <td>0.000347</td>\n",
       "      <td>[6.0, -6.0]</td>\n",
       "    </tr>\n",
       "    <tr>\n",
       "      <th>4</th>\n",
       "      <td>8.0</td>\n",
       "      <td>0.000025</td>\n",
       "      <td>[8.0, -8.0]</td>\n",
       "    </tr>\n",
       "  </tbody>\n",
       "</table>\n",
       "</div>"
      ],
      "text/plain": [
       "   (2\\ell+i mod 2)  frequency     Dyckword\n",
       "0              0.0   0.000069   [0.0, 0.0]\n",
       "1              2.0   0.000868  [2.0, -2.0]\n",
       "2              4.0   0.001157  [4.0, -4.0]\n",
       "3              6.0   0.000347  [6.0, -6.0]\n",
       "4              8.0   0.000025  [8.0, -8.0]"
      ]
     },
     "execution_count": 3,
     "metadata": {},
     "output_type": "execute_result"
    }
   ],
   "source": [
    "the_expected_value_of_word(8,8)"
   ]
  },
  {
   "cell_type": "markdown",
   "id": "760c34cd-a7fd-4ab5-87fa-8c8b1534d9d7",
   "metadata": {},
   "source": [
    "#### Um die ganze Summe zu schreiben bzw den Erwartungswert der interierten Summe eines AR(1) mit dem Wort $W=i_1i_2$ zu berechnen, ersetzt man die Einträge aus der Dataframe mit deren Potenial und Frequenzen in die oben geschriebene Formel "
   ]
  }
 ],
 "metadata": {
  "kernelspec": {
   "display_name": "Python 3",
   "language": "python",
   "name": "python3"
  },
  "language_info": {
   "codemirror_mode": {
    "name": "ipython",
    "version": 3
   },
   "file_extension": ".py",
   "mimetype": "text/x-python",
   "name": "python",
   "nbconvert_exporter": "python",
   "pygments_lexer": "ipython3",
   "version": "3.9.2"
  }
 },
 "nbformat": 4,
 "nbformat_minor": 5
}
