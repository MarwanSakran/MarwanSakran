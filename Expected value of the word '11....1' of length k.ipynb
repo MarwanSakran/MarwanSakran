{
 "cells": [
  {
   "cell_type": "markdown",
   "id": "98ed0d34-da30-4cb1-a37a-5007fddb9595",
   "metadata": {},
   "source": [
    "# Der erwartungswert im allgemeinen Fall für das Wort $W=\\underbrace{1\\dots1}_{k \\text{ mal }}$"
   ]
  },
  {
   "cell_type": "code",
   "execution_count": 1,
   "id": "2214097b-24dd-4f91-9111-adc8a1024180",
   "metadata": {},
   "outputs": [],
   "source": [
    "import numpy  as np\n",
    "import pandas as pd\n",
    "import math"
   ]
  },
  {
   "cell_type": "markdown",
   "id": "06d56c10-cf0d-411a-a371-2e87b7976504",
   "metadata": {
    "tags": []
   },
   "source": [
    "#### Um den Erwartungswert der interierten Summe eines AR(1) mit dem Wort $W=\\underbrace{1\\dots1}_{k \\text{ mal }}$ zu berechnen, habe ich die Folgende Formel in meiner Masterarbeit in Proposition 7.3.9. bewiesen:\n",
    " \\begin{align}\\mathbf{E}[\\langle \\mathsf{ISS}(X),\\underbrace{1\\dots1}_{k \\text{ mal }}\\rangle]=\\begin{cases}0 &  \\text{ wenn } k \\text{ ungerade }\\\\(-(\\frac{(1-\\varphi)\\sigma^2}{(1+\\varphi)\\varphi}))^{\\frac{k}{2}}\\langle \\mathsf{ISS}(Z),\\sum_{\\omega\\in\\Omega_k}\\mathfrak{fq}_{\\omega}\\omega\\rangle& \\text{sonst}\\end{cases}\\end{align}"
   ]
  },
  {
   "cell_type": "markdown",
   "id": "1bd4b719-d976-429f-8d6e-3ecab51904f6",
   "metadata": {
    "tags": []
   },
   "source": [
    "In dieser Formel braucht man $\\Omega_k$ die Menge aller Dyck-wörter der Länge $k$ und die dazu gehörigen Koeffizienten, die in der Masterarbeit Freqenzen $\\mathfrak{fq}_{\\omega}$ gennat wurden.\n",
    "Die Formel für die Frequenz eines Dyck-Worts ist in der (Bemerkung 7.3.13) wie Folgend gegeben:\n",
    " $$\\mathfrak{fq}_{\\omega}=\\mathfrak{fq}_{(f(\\mathsf{pos}))}=\\prod_{\\ell=1}^{\\frac{k}{2}}(\\mathsf{pos}_{\\ell}-1-2(\\ell-1))=\\prod_{\\ell=1}^{\\frac{k}{2}}(\\mathsf{pos}_{\\ell}+   1-2\\ell)$$"
   ]
  },
  {
   "cell_type": "markdown",
   "id": "25babda3-b401-4fcb-8078-279afc01c597",
   "metadata": {
    "tags": []
   },
   "source": [
    " #### Der folgende Algorithmus erzeugt die Menge der Dyckwörter mithilfe der Positionen von -1. Dieser Algorithmus ( Funktion ) gibt raus die Dyckwörter $\\omega$ und für jedes Dyck-Wort die dazugehörige Frequenz $\\mathfrak{fq}_{\\omega}$."
   ]
  },
  {
   "cell_type": "code",
   "execution_count": 2,
   "id": "56c09756-09c2-4d23-a3f8-ebacd0abe8da",
   "metadata": {},
   "outputs": [],
   "source": [
    "def Posintions_of_minus_one(k):\n",
    " if k%2==1:\n",
    "        return('expected value','is zero')\n",
    " else:\n",
    "    #gernrating the dyck words with the length (k)\n",
    "    k_prime = int(k/2)\n",
    "    #the array of the positions of the 1's (the \"-\")\n",
    "    POS=np.zeros([1,k_prime], dtype = int)\n",
    "    #the number of the perfect matching of the set {1,2k}, which ist equivalent to each Dyck Word\n",
    "    Coeff=np.ones([0,1], int)\n",
    "    A=np.zeros([1,k_prime], dtype = int)\n",
    "    #the Dyck words represented with \"+1\",\"-1\"\n",
    "    Dyck_Words=np.full([0,k], +1)\n",
    "    #the first( smallest ) word\n",
    "    for i in range(0,k_prime):\n",
    "      POS[0][i]=2*(i+1)\n",
    "      A[0][i]=2*(i+1)\n",
    "    ind=True\n",
    "    while ind == True:\n",
    "        ind=False\n",
    "        C=np.full([1,k], +1)\n",
    "        B=np.ones([1,1], dtype = int)\n",
    "        for i in range(0,k_prime):\n",
    "            B=B*(A[0][i]+1-2*(i+1)) # the frequency of the Dyck-word\n",
    "            C[0][A[0][i]-1]=-1 #the Dyck-words\n",
    "        Coeff=np.concatenate((Coeff,B),axis=0)\n",
    "        Dyck_Words = np.concatenate((Dyck_Words,C),axis=0)\n",
    "        for i in range(k_prime-2,-1,-1):\n",
    "            if A[0][i]< k_prime+1+i:\n",
    "               A[0][i]=A[0][i]+1\n",
    "               for j  in range(i+1,k_prime-1):\n",
    "                   A[0][j]=max(A[0][j-1]+1,2*(j+1))\n",
    "               ind=True\n",
    "               POS=np.concatenate((POS,A), axis = 0)\n",
    "               break\n",
    "    return(Dyck_Words,Coeff)"
   ]
  },
  {
   "cell_type": "markdown",
   "id": "7ace6842-2b16-4468-8dfa-02310a7b217b",
   "metadata": {},
   "source": [
    "#### Als 'Sanity Check' kann man überprüfen, ob die Summe des Vektors 'Coeff' gleich der Anzahl der Matchings der Menge [k] ((Vermutung) Bemerkung 7.3.11) ist und ob die Anzahl der Einträge im Vektor 'Dyck_Words' gleich der $\\frac{k}{2}$-te Catalan-Nummer ist."
   ]
  },
  {
   "cell_type": "markdown",
   "id": "1040f0f8-cbce-4653-9dab-1a2d09868dde",
   "metadata": {},
   "source": [
    "Die Formel für Die Anzahl der Matchings einer Menge $[k]$ ist gleich $(k-1)!!$ wenn $k$  gerade ist. mit $$(k-1)!!=\\frac{k!}{2^{\\frac{k}{2}}\\frac{k}{2}!}$$\n",
    "Die Anzahl der Dyckwörter der Länge $k$ ist gleich  der $\\frac{k}{2}$-te Catalan-Nummer\n",
    "und die Formel für die Ctalan-Nummer ist $$C_{\\frac{k}{2}}={\\frac {1}{\\frac{k}{2}+1}}{k \\choose \\frac{k}{2}}={\\frac {k!}{(\\frac{k}{2}+1)!\\,\\frac{k}{2}!}}$$"
   ]
  },
  {
   "cell_type": "markdown",
   "id": "bd76ff65-cda5-4baf-82e2-ad9e9422fc98",
   "metadata": {},
   "source": [
    "Die einzugebenden Data ist nur $k$ die Länge des Worts $W=\\underbrace{1\\dots1}_{k \\text{ mal }}$"
   ]
  },
  {
   "cell_type": "code",
   "execution_count": 3,
   "id": "bcaf7109-3cc6-49a0-877d-4022896941b1",
   "metadata": {},
   "outputs": [],
   "source": [
    "k=8"
   ]
  },
  {
   "cell_type": "code",
   "execution_count": 4,
   "id": "65abf34b-4004-4721-bca3-ea1e60530891",
   "metadata": {},
   "outputs": [],
   "source": [
    "[Dyck_words,frequency_of_Dyckwords]=Posintions_of_minus_one(k)"
   ]
  },
  {
   "cell_type": "code",
   "execution_count": 5,
   "id": "3ca19d15-8f25-4385-a748-33523620a5f3",
   "metadata": {},
   "outputs": [
    {
     "name": "stdout",
     "output_type": "stream",
     "text": [
      "105.0 [105]\n",
      "14.0 14\n"
     ]
    }
   ],
   "source": [
    "k_minus_1_double_factorial=math.factorial(k)/(2**int(k/2)*math.factorial(int(k/2))) # the double faculty\n",
    "catlan_number_k_half=math.factorial(k)/(math.factorial(int(k/2)+1)*math.factorial(int(k/2)))# the (k\\2)-th Catalan Number \n",
    "print(k_minus_1_double_factorial,sum(frequency_of_Dyckwords))\n",
    "print(catlan_number_k_half,len(Dyck_words))"
   ]
  },
  {
   "cell_type": "code",
   "execution_count": 6,
   "id": "0c61e4ee-d5cd-4f27-a31c-8c2790a1ba9b",
   "metadata": {},
   "outputs": [],
   "source": [
    "the_expected_value_of_k_word_of_ones=[]\n",
    "for i in range(len(Dyck_words)):\n",
    "    the_expected_value_of_k_word_of_ones.append([frequency_of_Dyckwords[i],Dyck_words[i]])"
   ]
  },
  {
   "cell_type": "code",
   "execution_count": 7,
   "id": "a8cc34e1-7bdf-469c-8e1e-229b45c031cc",
   "metadata": {},
   "outputs": [],
   "source": [
    "Df_the_expected_value_of_k_word_of_ones=pd.DataFrame(the_expected_value_of_k_word_of_ones,columns=['frequency','Dyckword'])"
   ]
  },
  {
   "cell_type": "markdown",
   "id": "041dd205-d14c-4269-817a-ca0f80133c23",
   "metadata": {},
   "source": [
    "#### Aus der folgenden Data-Frame erhält man alle Summanden, die in der für den Erwartungswert oben geschiebenen Formel stehen, wobei in jeder Zeile ein Dyck-Wort mit ihrer Frequenz steht.\n",
    "Die Formel für den Erwartungswert hat nur zwei zuberechenden Variablen, die Dyck-Wörter und die dazugehörigen Frequenzen, diese Variblen sind in der Dataframe zu erhalten. Jede Zeile enthält in der ersten Spalte die Frequenz und in der zweiten das Dyckwört."
   ]
  },
  {
   "cell_type": "code",
   "execution_count": 8,
   "id": "2c64c647-9f76-4db0-aedc-66a57bde0f68",
   "metadata": {},
   "outputs": [
    {
     "data": {
      "text/html": [
       "<div>\n",
       "<style scoped>\n",
       "    .dataframe tbody tr th:only-of-type {\n",
       "        vertical-align: middle;\n",
       "    }\n",
       "\n",
       "    .dataframe tbody tr th {\n",
       "        vertical-align: top;\n",
       "    }\n",
       "\n",
       "    .dataframe thead th {\n",
       "        text-align: right;\n",
       "    }\n",
       "</style>\n",
       "<table border=\"1\" class=\"dataframe\">\n",
       "  <thead>\n",
       "    <tr style=\"text-align: right;\">\n",
       "      <th></th>\n",
       "      <th>frequency</th>\n",
       "      <th>Dyckword</th>\n",
       "    </tr>\n",
       "  </thead>\n",
       "  <tbody>\n",
       "    <tr>\n",
       "      <th>0</th>\n",
       "      <td>[1]</td>\n",
       "      <td>[1, -1, 1, -1, 1, -1, 1, -1]</td>\n",
       "    </tr>\n",
       "    <tr>\n",
       "      <th>1</th>\n",
       "      <td>[2]</td>\n",
       "      <td>[1, -1, 1, -1, 1, 1, -1, -1]</td>\n",
       "    </tr>\n",
       "    <tr>\n",
       "      <th>2</th>\n",
       "      <td>[2]</td>\n",
       "      <td>[1, -1, 1, 1, -1, -1, 1, -1]</td>\n",
       "    </tr>\n",
       "    <tr>\n",
       "      <th>3</th>\n",
       "      <td>[4]</td>\n",
       "      <td>[1, -1, 1, 1, -1, 1, -1, -1]</td>\n",
       "    </tr>\n",
       "    <tr>\n",
       "      <th>4</th>\n",
       "      <td>[6]</td>\n",
       "      <td>[1, -1, 1, 1, 1, -1, -1, -1]</td>\n",
       "    </tr>\n",
       "    <tr>\n",
       "      <th>5</th>\n",
       "      <td>[2]</td>\n",
       "      <td>[1, 1, -1, -1, 1, -1, 1, -1]</td>\n",
       "    </tr>\n",
       "    <tr>\n",
       "      <th>6</th>\n",
       "      <td>[4]</td>\n",
       "      <td>[1, 1, -1, -1, 1, 1, -1, -1]</td>\n",
       "    </tr>\n",
       "    <tr>\n",
       "      <th>7</th>\n",
       "      <td>[4]</td>\n",
       "      <td>[1, 1, -1, 1, -1, -1, 1, -1]</td>\n",
       "    </tr>\n",
       "    <tr>\n",
       "      <th>8</th>\n",
       "      <td>[8]</td>\n",
       "      <td>[1, 1, -1, 1, -1, 1, -1, -1]</td>\n",
       "    </tr>\n",
       "    <tr>\n",
       "      <th>9</th>\n",
       "      <td>[12]</td>\n",
       "      <td>[1, 1, -1, 1, 1, -1, -1, -1]</td>\n",
       "    </tr>\n",
       "    <tr>\n",
       "      <th>10</th>\n",
       "      <td>[6]</td>\n",
       "      <td>[1, 1, 1, -1, -1, -1, 1, -1]</td>\n",
       "    </tr>\n",
       "    <tr>\n",
       "      <th>11</th>\n",
       "      <td>[12]</td>\n",
       "      <td>[1, 1, 1, -1, -1, 1, -1, -1]</td>\n",
       "    </tr>\n",
       "    <tr>\n",
       "      <th>12</th>\n",
       "      <td>[18]</td>\n",
       "      <td>[1, 1, 1, -1, 1, -1, -1, -1]</td>\n",
       "    </tr>\n",
       "    <tr>\n",
       "      <th>13</th>\n",
       "      <td>[24]</td>\n",
       "      <td>[1, 1, 1, 1, -1, -1, -1, -1]</td>\n",
       "    </tr>\n",
       "  </tbody>\n",
       "</table>\n",
       "</div>"
      ],
      "text/plain": [
       "   frequency                      Dyckword\n",
       "0        [1]  [1, -1, 1, -1, 1, -1, 1, -1]\n",
       "1        [2]  [1, -1, 1, -1, 1, 1, -1, -1]\n",
       "2        [2]  [1, -1, 1, 1, -1, -1, 1, -1]\n",
       "3        [4]  [1, -1, 1, 1, -1, 1, -1, -1]\n",
       "4        [6]  [1, -1, 1, 1, 1, -1, -1, -1]\n",
       "5        [2]  [1, 1, -1, -1, 1, -1, 1, -1]\n",
       "6        [4]  [1, 1, -1, -1, 1, 1, -1, -1]\n",
       "7        [4]  [1, 1, -1, 1, -1, -1, 1, -1]\n",
       "8        [8]  [1, 1, -1, 1, -1, 1, -1, -1]\n",
       "9       [12]  [1, 1, -1, 1, 1, -1, -1, -1]\n",
       "10       [6]  [1, 1, 1, -1, -1, -1, 1, -1]\n",
       "11      [12]  [1, 1, 1, -1, -1, 1, -1, -1]\n",
       "12      [18]  [1, 1, 1, -1, 1, -1, -1, -1]\n",
       "13      [24]  [1, 1, 1, 1, -1, -1, -1, -1]"
      ]
     },
     "execution_count": 8,
     "metadata": {},
     "output_type": "execute_result"
    }
   ],
   "source": [
    "Df_the_expected_value_of_k_word_of_ones"
   ]
  }
 ],
 "metadata": {
  "kernelspec": {
   "display_name": "Python 3",
   "language": "python",
   "name": "python3"
  },
  "language_info": {
   "codemirror_mode": {
    "name": "ipython",
    "version": 3
   },
   "file_extension": ".py",
   "mimetype": "text/x-python",
   "name": "python",
   "nbconvert_exporter": "python",
   "pygments_lexer": "ipython3",
   "version": "3.9.2"
  }
 },
 "nbformat": 4,
 "nbformat_minor": 5
}
