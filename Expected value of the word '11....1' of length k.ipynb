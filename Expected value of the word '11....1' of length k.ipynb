{
 "cells": [
  {
   "cell_type": "code",
   "execution_count": 1,
   "id": "79766597-b00b-4711-aad7-ee79b51a8c2d",
   "metadata": {},
   "outputs": [],
   "source": [
    "import numpy  as np\n",
    "import pandas as pd\n",
    "import math"
   ]
  },
  {
   "cell_type": "markdown",
   "id": "a855b628-441b-42e9-a35a-8f7c92505b35",
   "metadata": {},
   "source": [
    "## Um den Erwartungswert der interierten Summe eines AR(1) mit dem Wort $W=\\underbrace{1\\dots1}_{k \\text{ mal }}$ zu berechnen, habe ich die Folgende Formel in meiner Masterarbeit in Proposition 7.3.9. gefunden\n",
    "\\begin{align}\\mathbf{E}[\\langle \\mathsf{ISS}(X),\\underbrace{1\\dots1}_{k \\text{ mal }}\\rangle]=\\begin{cases}0 &  \\text{ wenn } k \\text{ ungerade }\\\\(-(\\frac{(1-\\varphi)\\sigma^2}{(1+\\varphi)\\varphi}))^{\\frac{k}{2}}\\langle \\mathsf{ISS}(Z),\\sum_{\\omega\\in\\Omega_k}\\mathfrak{fq}_{\\omega}\\omega\\rangle& \\text{sonst}\\end{cases}\\end{align}"
   ]
  },
  {
   "cell_type": "markdown",
   "id": "e5cc6274-fb6c-487a-af64-0f6fa9996200",
   "metadata": {},
   "source": [
    "### In dieser Formel braucht man $\\Omega_k$ die Menge aller Dyck-wörter der Länge $k$ und die dazu gehörigen Koeffizienten, die Freqenzen $\\mathfrak{fq}_{\\omega}$ in Masterarbeit gennat wurde.\n",
    "### Die Formel für die Frequenz eines Dyck-Worts ist in der (Bemerkung 7.3.13) wie Folgend gegeben:\n",
    "### $$\\mathfrak{fq}_{\\omega}=\\mathfrak{fq}_{(f(\\mathsf{pos}))}=\\prod_{\\ell=1}^{\\frac{k}{2}}(\\mathsf{pos}_{\\ell}-1-2(\\ell-1))=\\prod_{\\ell=1}^{\\frac{k}{2}}(\\mathsf{pos}_{\\ell}+   1-2\\ell)$$"
   ]
  },
  {
   "cell_type": "markdown",
   "id": "53cb52b0-2999-43f1-9274-b22693f43b05",
   "metadata": {},
   "source": [
    " ### Der folgende Algorithmus erzeugt die Menge der Dyckwörter mithilfe der Positionen von -1.\n",
    " \n",
    " ### Dieser Algorithmus ( Funktion ) gibt raus die Dyckwörter $\\omega$ und für jedes Dyck-Wort die dazugehörige Frequenz $\\mathfrak{fq}_{\\omega}$."
   ]
  },
  {
   "cell_type": "code",
   "execution_count": 22,
   "id": "56c09756-09c2-4d23-a3f8-ebacd0abe8da",
   "metadata": {},
   "outputs": [],
   "source": [
    "def Posintions_of_minus_one(k):\n",
    " if k%2==1:\n",
    "        return('expected value','is zero')\n",
    " else:\n",
    "    #gernrating the dyck words with the length (k)\n",
    "    k_prime = int(k/2)\n",
    "    #the array of the positions of the 1's (the \"-\")\n",
    "    POS=np.zeros([1,k_prime], dtype = int)\n",
    "    #the number of the perfect matching of the set {1,2k}, which ist equivalent to each Dyck Word\n",
    "    Coeff=np.ones([0,1], int)\n",
    "    A=np.zeros([1,k_prime], dtype = int)\n",
    "    #the Dyck words represented with \"+1\",\"-1\"\n",
    "    Dyck_Words=np.full([0,k], +1)\n",
    "    #the first( smallest ) word\n",
    "    for i in range(0,k_prime):\n",
    "      POS[0][i]=2*(i+1)\n",
    "      A[0][i]=2*(i+1)\n",
    "    ind=True\n",
    "    while ind == True:\n",
    "        ind=False\n",
    "        C=np.full([1,k], +1)\n",
    "        B=np.ones([1,1], dtype = int)\n",
    "        for i in range(0,k_prime):\n",
    "            B=B*(A[0][i]+1-2*(i+1)) # the frequency of the Dyck-word\n",
    "            C[0][A[0][i]-1]=-1 #the Dyck-words\n",
    "        Coeff=np.concatenate((Coeff,B),axis=0)\n",
    "        Dyck_Words = np.concatenate((Dyck_Words,C),axis=0)\n",
    "        for i in range(k_prime-2,-1,-1):\n",
    "            if A[0][i]< k_prime+1+i:\n",
    "               A[0][i]=A[0][i]+1\n",
    "               for j  in range(i+1,k_prime-1):\n",
    "                   A[0][j]=max(A[0][j-1]+1,2*(j+1))\n",
    "               ind=True\n",
    "               POS=np.concatenate((POS,A), axis = 0)\n",
    "               break\n",
    "    return(Dyck_Words,Coeff)"
   ]
  },
  {
   "cell_type": "markdown",
   "id": "7ace6842-2b16-4468-8dfa-02310a7b217b",
   "metadata": {},
   "source": [
    "### Als 'Sanity Check' kann man überprüfen, ob die Summe des Vektors 'Coeff' gleich die Anzahl der Matchings der Menge [k] ((Vermutung) Bemerkung 7.3.11)  und ob die Anzahl der Einträge im Vektor 'Dyck_Words' ist gleich die die $\\frac{k}{2}$-te Catalan-Nummer "
   ]
  },
  {
   "cell_type": "markdown",
   "id": "8a6c99b3-aa4c-44ca-bcf9-16af02b9f80c",
   "metadata": {},
   "source": [
    "## Die Anzahl der Matchings einer Menge $[k]$ ist gleich $(k-1)!!$ wenn $k$  gerade ist \n",
    "### $$(k-1)!!=\\frac{k!}{2^{\\frac{k}{2}}\\frac{k}{2}!}$$\n",
    "## Die Anzahl der Dyckwörter der Länge $k$ ist gleich  die $\\frac{k}{2}$-te Catalan-Nummer\n",
    "### $$C_{\\frac{k}{2}}={\\frac {1}{\\frac{k}{2}+1}}{k \\choose \\frac{k}{2}}={\\frac {k!}{(\\frac{k}{2}+1)!\\,\\frac{k}{2}!}}$$"
   ]
  },
  {
   "cell_type": "code",
   "execution_count": 27,
   "id": "bcaf7109-3cc6-49a0-877d-4022896941b1",
   "metadata": {},
   "outputs": [],
   "source": [
    "k=20"
   ]
  },
  {
   "cell_type": "code",
   "execution_count": 28,
   "id": "65abf34b-4004-4721-bca3-ea1e60530891",
   "metadata": {},
   "outputs": [],
   "source": [
    "[Dyck_words,frequency_of_Dyckwords]=Posintions_of_minus_one(k)"
   ]
  },
  {
   "cell_type": "code",
   "execution_count": 29,
   "id": "3ca19d15-8f25-4385-a748-33523620a5f3",
   "metadata": {},
   "outputs": [
    {
     "name": "stdout",
     "output_type": "stream",
     "text": [
      "654729075.0 [654729075]\n",
      "16796.0 16796\n"
     ]
    }
   ],
   "source": [
    "k_minus_1_double_factorial=math.factorial(k)/(2**int(k/2)*math.factorial(int(k/2))) # the double faculty\n",
    "catlan_number_k_half=math.factorial(k)/(math.factorial(int(k/2)+1)*math.factorial(int(k/2)))# the (k\\2)-th Catalan Number \n",
    "print(k_minus_1_double_factorial,sum(frequency_of_Dyckwords))\n",
    "print(catlan_number_k_half,len(Dyck_words))"
   ]
  },
  {
   "cell_type": "code",
   "execution_count": 30,
   "id": "0c61e4ee-d5cd-4f27-a31c-8c2790a1ba9b",
   "metadata": {},
   "outputs": [],
   "source": [
    "the_expected_value_of_k_word_of_ones=[]\n",
    "for i in range(len(Dyck_words)):\n",
    "    the_expected_value_of_k_word_of_ones.append([frequency_of_Dyckwords[i],Dyck_words[i]])"
   ]
  },
  {
   "cell_type": "code",
   "execution_count": 31,
   "id": "a8cc34e1-7bdf-469c-8e1e-229b45c031cc",
   "metadata": {},
   "outputs": [],
   "source": [
    "Df_the_expected_value_of_k_word_of_ones=pd.DataFrame(the_expected_value_of_k_word_of_ones,columns=['frequency','Dyckword'])"
   ]
  },
  {
   "cell_type": "markdown",
   "id": "041dd205-d14c-4269-817a-ca0f80133c23",
   "metadata": {},
   "source": [
    "### Aus der folgenden Data-Frame erhält man alle Summanden, die in der für den Erwartungswert oben geschiebenen Formel stehen, wobei in jeder Zeile ein Dyck-Wort mit ihrer Frequenz steht.\n",
    "\n",
    "#### Um die Summe bzw den Erwatungswert zu erhalten, schreibt man diese Summanden mit der dazugehörigen Frequenzen alle als Summe schreiben "
   ]
  },
  {
   "cell_type": "code",
   "execution_count": 38,
   "id": "2c64c647-9f76-4db0-aedc-66a57bde0f68",
   "metadata": {},
   "outputs": [
    {
     "data": {
      "text/html": [
       "<div>\n",
       "<style scoped>\n",
       "    .dataframe tbody tr th:only-of-type {\n",
       "        vertical-align: middle;\n",
       "    }\n",
       "\n",
       "    .dataframe tbody tr th {\n",
       "        vertical-align: top;\n",
       "    }\n",
       "\n",
       "    .dataframe thead th {\n",
       "        text-align: right;\n",
       "    }\n",
       "</style>\n",
       "<table border=\"1\" class=\"dataframe\">\n",
       "  <thead>\n",
       "    <tr style=\"text-align: right;\">\n",
       "      <th></th>\n",
       "      <th>frequency</th>\n",
       "      <th>Dyckword</th>\n",
       "    </tr>\n",
       "  </thead>\n",
       "  <tbody>\n",
       "    <tr>\n",
       "      <th>0</th>\n",
       "      <td>[1]</td>\n",
       "      <td>[1, -1, 1, -1, 1, -1, 1, -1, 1, -1, 1, -1, 1, ...</td>\n",
       "    </tr>\n",
       "    <tr>\n",
       "      <th>1</th>\n",
       "      <td>[2]</td>\n",
       "      <td>[1, -1, 1, -1, 1, -1, 1, -1, 1, -1, 1, -1, 1, ...</td>\n",
       "    </tr>\n",
       "    <tr>\n",
       "      <th>2</th>\n",
       "      <td>[2]</td>\n",
       "      <td>[1, -1, 1, -1, 1, -1, 1, -1, 1, -1, 1, -1, 1, ...</td>\n",
       "    </tr>\n",
       "    <tr>\n",
       "      <th>3</th>\n",
       "      <td>[4]</td>\n",
       "      <td>[1, -1, 1, -1, 1, -1, 1, -1, 1, -1, 1, -1, 1, ...</td>\n",
       "    </tr>\n",
       "    <tr>\n",
       "      <th>4</th>\n",
       "      <td>[6]</td>\n",
       "      <td>[1, -1, 1, -1, 1, -1, 1, -1, 1, -1, 1, -1, 1, ...</td>\n",
       "    </tr>\n",
       "    <tr>\n",
       "      <th>...</th>\n",
       "      <td>...</td>\n",
       "      <td>...</td>\n",
       "    </tr>\n",
       "    <tr>\n",
       "      <th>16791</th>\n",
       "      <td>[2177280]</td>\n",
       "      <td>[1, 1, 1, 1, 1, 1, 1, 1, 1, -1, -1, -1, -1, 1,...</td>\n",
       "    </tr>\n",
       "    <tr>\n",
       "      <th>16792</th>\n",
       "      <td>[2540160]</td>\n",
       "      <td>[1, 1, 1, 1, 1, 1, 1, 1, 1, -1, -1, -1, 1, -1,...</td>\n",
       "    </tr>\n",
       "    <tr>\n",
       "      <th>16793</th>\n",
       "      <td>[2903040]</td>\n",
       "      <td>[1, 1, 1, 1, 1, 1, 1, 1, 1, -1, -1, 1, -1, -1,...</td>\n",
       "    </tr>\n",
       "    <tr>\n",
       "      <th>16794</th>\n",
       "      <td>[3265920]</td>\n",
       "      <td>[1, 1, 1, 1, 1, 1, 1, 1, 1, -1, 1, -1, -1, -1,...</td>\n",
       "    </tr>\n",
       "    <tr>\n",
       "      <th>16795</th>\n",
       "      <td>[3628800]</td>\n",
       "      <td>[1, 1, 1, 1, 1, 1, 1, 1, 1, 1, -1, -1, -1, -1,...</td>\n",
       "    </tr>\n",
       "  </tbody>\n",
       "</table>\n",
       "<p>16796 rows × 2 columns</p>\n",
       "</div>"
      ],
      "text/plain": [
       "       frequency                                           Dyckword\n",
       "0            [1]  [1, -1, 1, -1, 1, -1, 1, -1, 1, -1, 1, -1, 1, ...\n",
       "1            [2]  [1, -1, 1, -1, 1, -1, 1, -1, 1, -1, 1, -1, 1, ...\n",
       "2            [2]  [1, -1, 1, -1, 1, -1, 1, -1, 1, -1, 1, -1, 1, ...\n",
       "3            [4]  [1, -1, 1, -1, 1, -1, 1, -1, 1, -1, 1, -1, 1, ...\n",
       "4            [6]  [1, -1, 1, -1, 1, -1, 1, -1, 1, -1, 1, -1, 1, ...\n",
       "...          ...                                                ...\n",
       "16791  [2177280]  [1, 1, 1, 1, 1, 1, 1, 1, 1, -1, -1, -1, -1, 1,...\n",
       "16792  [2540160]  [1, 1, 1, 1, 1, 1, 1, 1, 1, -1, -1, -1, 1, -1,...\n",
       "16793  [2903040]  [1, 1, 1, 1, 1, 1, 1, 1, 1, -1, -1, 1, -1, -1,...\n",
       "16794  [3265920]  [1, 1, 1, 1, 1, 1, 1, 1, 1, -1, 1, -1, -1, -1,...\n",
       "16795  [3628800]  [1, 1, 1, 1, 1, 1, 1, 1, 1, 1, -1, -1, -1, -1,...\n",
       "\n",
       "[16796 rows x 2 columns]"
      ]
     },
     "execution_count": 38,
     "metadata": {},
     "output_type": "execute_result"
    }
   ],
   "source": [
    "Df_the_expected_value_of_k_word_of_ones"
   ]
  },
  {
   "cell_type": "code",
   "execution_count": null,
   "id": "d46d17a8-138d-499e-bebc-c7647dee09c8",
   "metadata": {},
   "outputs": [],
   "source": []
  }
 ],
 "metadata": {
  "kernelspec": {
   "display_name": "Python 3",
   "language": "python",
   "name": "python3"
  },
  "language_info": {
   "codemirror_mode": {
    "name": "ipython",
    "version": 3
   },
   "file_extension": ".py",
   "mimetype": "text/x-python",
   "name": "python",
   "nbconvert_exporter": "python",
   "pygments_lexer": "ipython3",
   "version": "3.9.2"
  }
 },
 "nbformat": 4,
 "nbformat_minor": 5
}
