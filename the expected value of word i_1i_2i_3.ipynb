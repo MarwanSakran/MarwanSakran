{
 "cells": [
  {
   "cell_type": "markdown",
   "id": "6430e8f2-2e6a-43d9-ba24-b0d5e3b8a9e8",
   "metadata": {},
   "source": [
    "# Der Erwartungswert einer iterierten Summe von AR(1) mit dem Wort $W=i_1i_2i_3$"
   ]
  },
  {
   "cell_type": "code",
   "execution_count": 1,
   "id": "9f84acdc-75fd-453d-a645-ca8fbb0251de",
   "metadata": {},
   "outputs": [],
   "source": [
    "import numpy as np\n",
    "import tensorflow as ts\n",
    "import pandas as pd\n",
    "import itertools\n",
    "import scipy\n",
    "from itertools import product\n",
    "from scipy import math \n",
    "from math import factorial"
   ]
  },
  {
   "cell_type": "markdown",
   "id": "b4b07649-2c02-44dd-b6cd-5bcad8d43f08",
   "metadata": {},
   "source": [
    "## Um den Erwartungswert der interierten Summe eines AR(1) mit dem Wort $W=i_1i_2i_3$ zu berechnen, habe ich die Folgende Formel in meiner Masterarbeit in Proposition 7.3.17 bewiesen:\n",
    "Wenn $i_1+i_2+i_3=2m+1$\n",
    "\\begin{equation*}\\mathbf{E}[\\langle \\mathsf{ISS}(X), i_1i_2i_3\\rangle]=0\\end{equation*}\n",
    "sonst:\n",
    "\\begin{align}\\mathbf{E}[\\langle \\mathsf{ISS}(X),i_1i_2i_3\\rangle]=i_1!i_2!i_3!(\\frac{\\sigma^2}{1+\\varphi})^{\\frac{\\sum i_l}{2}}\\sum_{\\substack{w \\in \\mathfrak{W}_{i_1i_2i_3}\\\\2D=\\sum w_l-2\\operatorname{max}w_l}} \\frac{(-1)^{\\frac{\\sum w_l}{2}}(\\operatorname{max}w_l-D)!}{(\\frac{i_1i_2i_3- w}{2})!(w_1-D)!(w_2-D)!(w_3-D)!(D)!}(\\frac{(1-\\varphi)}{\\varphi})^{\\frac{\\sum w_l}{2}}\\langle \\mathsf{ISS}(Z),[w_1][w_3-w_1][w_3]\\rangle\\end{align}"
   ]
  },
  {
   "cell_type": "markdown",
   "id": "87fbff2a-de29-4fbd-bb0d-677953a8f3b5",
   "metadata": {},
   "source": [
    "## In Dieser Formel müssen die folgenden Variabeln berechnet werden :\n",
    "- Der Eintrag in der inneren iterierten Summe in der rechten Seite , das im Code Dyckwords genannt wird und aus dem Alphabet '-1,+1' gebildet wird.$[w_1][w_3-w_1][w_3]$\n",
    "- Die Potenz für den Bruch $\\frac{1-\\varphi}{\\varphi}$,$\\frac{\\sum w_l}{2}$.\n",
    "- Die zu dem Eitrag gehörige Koeffizient, die in der Masterarbeitund im Code Frequenz 'frequency' $\\frac{(-1)^{\\frac{\\sum w_l}{2}}(\\operatorname{max}w_l-D)!}{(\\frac{i_1i_2i_3- w}{2})!(w_1-D)!(w_2-D)!(w_3-D)!(D)!}$."
   ]
  },
  {
   "cell_type": "code",
   "execution_count": 2,
   "id": "f496fc5f-be69-43e4-a9aa-52e80e13f872",
   "metadata": {},
   "outputs": [],
   "source": [
    "def the_expected_value_of_word(i1,i2,i3):\n",
    "    W=np.array([i1,i2,i3])\n",
    "    if np.sum(W)%2==1:\n",
    "        return('the expected value is equal to zero') \n",
    "    else:\n",
    "        DyckWords=np.zeros([0,3],dtype=int)\n",
    "        # the set over it the code sumes\n",
    "        X =list(product(range(int(np.floor(i1/2))+1),range(int(np.floor(i2/2))+1),range(int(np.floor(i3/2))+1))) \n",
    "        X =np.array(X)\n",
    "        sum=np.zeros([len(X),1])\n",
    "        power_of_the_constant=np.zeros([0,1],dtype=int)\n",
    "        Frequency=np.zeros([0,1],dtype=int)\n",
    "        for x in X:\n",
    "            w=W-2*x # this is the Element of \\mathfrac{w}, over it the Formel sums \n",
    "            D=(np.sum(w)-2*np.max(w))/2\n",
    "            if D>=0:\n",
    "               a=factorial(int(D))\n",
    "               p=int(np.sum(w)/2)\n",
    "               power_of_the_constant=np.append(power_of_the_constant,p)\n",
    "               c=np.prod(scipy.special.factorial(w-D))\n",
    "               d=np.prod(scipy.special.factorial(x))\n",
    "               Dw=np.array([w[0],w[2]-w[0],-w[2]])\n",
    "               DyckWords=np.concatenate((DyckWords,Dw.reshape(1,3)),axis=0)\n",
    "               numerator=factorial(int(np.max(w)-D))\n",
    "               denominator=d*c*a\n",
    "               fr=numerator/denominator\n",
    "               Frequency=np.append(Frequency,fr)\n",
    "        the_expected_value_of_word_the_length3=[]\n",
    "        for i in range(len(DyckWords)):\n",
    "                the_expected_value_of_word_the_length3.append([power_of_the_constant[i],Frequency[i],DyckWords[i]])\n",
    "        Df_the_expected_value_of_word_the_length3=pd.DataFrame(the_expected_value_of_word_the_length3,columns=['Power_of_the_constant','frequency','Dyckword'])\n",
    "        return(Df_the_expected_value_of_word_the_length3)"
   ]
  },
  {
   "cell_type": "markdown",
   "id": "27af1e09-1f22-4871-a24c-8c650080eeca",
   "metadata": {},
   "source": [
    "### Die folgende Dataframe hat drei Reihen und sie berechnet die Drei Varianten in der oben geschiebene Summe, diese Varianten sind:\n",
    "- Die Potenz in der Dataframe: Power_of_the_constant $=\\frac{\\sum w_l}{2}$\n",
    "- Die zum Eintrag gehörige Koeffizienten, welche als Frequenz 'frequency' in der Masterarbeit bzw in der Dataframe gennat wird frequency $=\\frac{(\\operatorname{max} w_l-D)!}{(\\frac{i_1i_2i_3- w}{2})!(w_1-D)!(w_2-D)!(w_3-D)!(D)!}$\n",
    "- Der Eintrag in der innneren interierten Summe mit dem Alphabet $'-1,+1'$,welcher Dyckword in der Dataframe genannt wird und gleich  $[w_1][w_3-w_1][w_3]$ ist."
   ]
  },
  {
   "cell_type": "markdown",
   "id": "aa259c29-fa0a-4c76-99ad-026ca13d282f",
   "metadata": {},
   "source": [
    "Die einzugebenden Data ist die Buchstaben $i_1,i_2,i_3$ des Worts $W=i_1i_2i_3$."
   ]
  },
  {
   "cell_type": "code",
   "execution_count": 3,
   "id": "f6f58227-1c34-4a5b-89dd-2b97e2399fdb",
   "metadata": {},
   "outputs": [
    {
     "data": {
      "text/html": [
       "<div>\n",
       "<style scoped>\n",
       "    .dataframe tbody tr th:only-of-type {\n",
       "        vertical-align: middle;\n",
       "    }\n",
       "\n",
       "    .dataframe tbody tr th {\n",
       "        vertical-align: top;\n",
       "    }\n",
       "\n",
       "    .dataframe thead th {\n",
       "        text-align: right;\n",
       "    }\n",
       "</style>\n",
       "<table border=\"1\" class=\"dataframe\">\n",
       "  <thead>\n",
       "    <tr style=\"text-align: right;\">\n",
       "      <th></th>\n",
       "      <th>Power_of_the_constant</th>\n",
       "      <th>frequency</th>\n",
       "      <th>Dyckword</th>\n",
       "    </tr>\n",
       "  </thead>\n",
       "  <tbody>\n",
       "    <tr>\n",
       "      <th>0</th>\n",
       "      <td>6</td>\n",
       "      <td>0.027778</td>\n",
       "      <td>[3, 3, -6]</td>\n",
       "    </tr>\n",
       "    <tr>\n",
       "      <th>1</th>\n",
       "      <td>5</td>\n",
       "      <td>0.250000</td>\n",
       "      <td>[3, 1, -4]</td>\n",
       "    </tr>\n",
       "    <tr>\n",
       "      <th>2</th>\n",
       "      <td>4</td>\n",
       "      <td>0.250000</td>\n",
       "      <td>[3, -1, -2]</td>\n",
       "    </tr>\n",
       "    <tr>\n",
       "      <th>3</th>\n",
       "      <td>3</td>\n",
       "      <td>0.027778</td>\n",
       "      <td>[3, -3, 0]</td>\n",
       "    </tr>\n",
       "    <tr>\n",
       "      <th>4</th>\n",
       "      <td>4</td>\n",
       "      <td>0.166667</td>\n",
       "      <td>[3, 1, -4]</td>\n",
       "    </tr>\n",
       "    <tr>\n",
       "      <th>5</th>\n",
       "      <td>3</td>\n",
       "      <td>0.250000</td>\n",
       "      <td>[3, -1, -2]</td>\n",
       "    </tr>\n",
       "    <tr>\n",
       "      <th>6</th>\n",
       "      <td>4</td>\n",
       "      <td>0.166667</td>\n",
       "      <td>[1, 3, -4]</td>\n",
       "    </tr>\n",
       "    <tr>\n",
       "      <th>7</th>\n",
       "      <td>3</td>\n",
       "      <td>0.250000</td>\n",
       "      <td>[1, 1, -2]</td>\n",
       "    </tr>\n",
       "    <tr>\n",
       "      <th>8</th>\n",
       "      <td>2</td>\n",
       "      <td>0.500000</td>\n",
       "      <td>[1, 1, -2]</td>\n",
       "    </tr>\n",
       "    <tr>\n",
       "      <th>9</th>\n",
       "      <td>1</td>\n",
       "      <td>0.166667</td>\n",
       "      <td>[1, -1, 0]</td>\n",
       "    </tr>\n",
       "  </tbody>\n",
       "</table>\n",
       "</div>"
      ],
      "text/plain": [
       "   Power_of_the_constant  frequency     Dyckword\n",
       "0                      6   0.027778   [3, 3, -6]\n",
       "1                      5   0.250000   [3, 1, -4]\n",
       "2                      4   0.250000  [3, -1, -2]\n",
       "3                      3   0.027778   [3, -3, 0]\n",
       "4                      4   0.166667   [3, 1, -4]\n",
       "5                      3   0.250000  [3, -1, -2]\n",
       "6                      4   0.166667   [1, 3, -4]\n",
       "7                      3   0.250000   [1, 1, -2]\n",
       "8                      2   0.500000   [1, 1, -2]\n",
       "9                      1   0.166667   [1, -1, 0]"
      ]
     },
     "execution_count": 3,
     "metadata": {},
     "output_type": "execute_result"
    }
   ],
   "source": [
    "the_expected_value_of_word(3,3,6)"
   ]
  },
  {
   "cell_type": "markdown",
   "id": "225cc1fd-e5d2-4d01-a588-0aa0a96e77cd",
   "metadata": {},
   "source": [
    "#### Um die ganze Summe zu schreiben bzw den Erwartungswert der interierten Summe eines AR(1) mit dem Wort $W=i_1i_2i_3$ zu berechnen, ersetzt man die Einträge aus der Dataframe mit deren Potenz und Frequenzen in die oben geschriebene Formel "
   ]
  }
 ],
 "metadata": {
  "kernelspec": {
   "display_name": "Python 3",
   "language": "python",
   "name": "python3"
  },
  "language_info": {
   "codemirror_mode": {
    "name": "ipython",
    "version": 3
   },
   "file_extension": ".py",
   "mimetype": "text/x-python",
   "name": "python",
   "nbconvert_exporter": "python",
   "pygments_lexer": "ipython3",
   "version": "3.9.2"
  }
 },
 "nbformat": 4,
 "nbformat_minor": 5
}
