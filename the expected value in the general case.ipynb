{
 "cells": [
  {
   "cell_type": "markdown",
   "id": "19a46499-b6a5-4447-ac6e-d12e8218f269",
   "metadata": {},
   "source": [
    "# Der erwartungswert im allgemeinen Fall für das Wort $W$\n",
    "Dieser Notebook zielt auf die Berechung des Erwartungswerts einer iterierten Summe von AR(1) mit einem beliebigen Wort $W=i_1i_2\\dotsi_k \\in \\mathbb N^*$ aufbauend hierauf des Isserlies' Satzes und mit Hilfe der Proposition 7.3.20 ab, die den Erwartungswert einer iterierten Summe von AR(1) mit dem Wort $W=1234$ berechnet hat, Diese Notebook erreicht das Ziel durch:\n",
    "- Berrechnen $\\mathbf P^2_{\\mathbb M\\{i_1,i_2,\\dots,i_k\\}}$  die Menge der Matchings der Multimenge $\\mathbb M\\{i_1,i_2,\\dots,i_k\\}$, diese Menge taucht in die folgende Formel auf \n",
    "\\begin{align*}\n",
    "    &\\mathbf{E}[\\langle \\mathsf{ISS}(X),i_1\\dots i_k\\rangle]=\\sum_{1\\le j_k<\\dots<j_2<j_1\\le n}\\sum_{p\\in P^2_{\\mathbb M[i_1i_2\\dots i_k]}}\\prod_{(l,l^\\prime)\\in p}\\mathbf{Cov}(\\Delta X_{j_l},\\Delta X_{j_{l^\\prime}})\n",
    "\\end{align*}, Dies wird durch die Beziehung zwischen der Menge der Matchings der Multimenge $\\mathbb M\\{i_1,i_2,\\dots,i_k\\}$ und den Mengen der Matchings bestimmter vollständiger k-partiten Graphen getan, die im Lemma 6.2.5. in der Masterarbeit bewiesen wurde. Für ein Wort $W=i_1i_2\\dots i_k $ definiere ich das Kartesische Produkt $\\mathsf{PROD}=[\\lfloor\\frac{i_1}{2}\\rfloor]\\times[\\lfloor\\frac{i_2}{2}\\rfloor]\\times\\dots\\times[\\lfloor\\frac{i_k}{2}\\rfloor]$. Dann gilt:\n",
    "  \\begin{equation}P^2_{\\mathbb M[i_1i_2\\dots i_k]}=\\bigcup_{ \\mathsf{prod}\\in \\mathsf{PROD} }(11)^{\\mathsf{prod}_1}\\star (22)^{\\mathsf{prod}_2}\\star\\dots\\star (kk)^{\\mathsf{prod}_k}\\star P^2_{\\mathbb K_{W-2\\mathsf{prod}}}\\end{equation}\n",
    "  Um den Wert der Elementen der Menge $P^2_{\\mathbb M[i_1i_2\\dots i_k]}$ in der iterierten Summe zu berechnen, werden paar Funktionen gebraucht."
   ]
  },
  {
   "cell_type": "code",
   "execution_count": 1,
   "id": "5fbcc8f7-0a66-4765-b479-3a08e940fcb2",
   "metadata": {},
   "outputs": [],
   "source": [
    "import numpy as np\n",
    "import pandas as pd \n",
    "import copy\n",
    "import itertools as it\n",
    "from itertools import product as carprod\n",
    "import scipy\n",
    "from scipy.special import comb\n",
    "import pprint\n",
    "from scipy.special import factorial\n",
    "from numpy import product\n",
    "import fractions"
   ]
  },
  {
   "cell_type": "code",
   "execution_count": 2,
   "id": "1716283a-f28f-4f40-b060-183f1f0791f7",
   "metadata": {},
   "outputs": [],
   "source": [
    "def without_max(A):#a tool used to calculate the frequency fq\n",
    "    A_ref=copy.copy(A)\n",
    "    for i in range(len(A)):\n",
    "       if i ==np.argmax(A):\n",
    "            A_ref[i]=0\n",
    "    return(A_ref)"
   ]
  },
  {
   "cell_type": "code",
   "execution_count": 3,
   "id": "17086447-2357-4f42-86c8-79c59cbcdd8b",
   "metadata": {},
   "outputs": [],
   "source": [
    "def rounded_halves(A): # a tool used to find the set over which we summe by the Cartesian product\n",
    "    X=[]\n",
    "    for i in range(len(A)):\n",
    "        X.append(list(range(int(np.floor(A[i]/2)+1))))\n",
    "    return(X)"
   ]
  },
  {
   "cell_type": "markdown",
   "id": "88af8891-869c-4924-a533-2fd77dbb07ac",
   "metadata": {},
   "source": [
    "### 1-Die erste Funktion findet die Menge der perfekten Matchings vom vollständigen k-partiten Graphen $\\mathbf{P}^2_{\\mathbb K_{W}}$, indem:\n",
    "- Die folgende Funktion alle Möglichkeiten findet, die Knoten der maximalen Klasse zu verbinden (zu paaren) \n",
    "- Dann wiederholt die Funktion den gleichen Schritt für die maximale Klasse aus den verbleibenden nicht-verbundenen Klassen.\n",
    "- Die Funktion wiederholt den Schritt, bis die Anzahl der Knoten in der maximalen Klasse der verbleibenden Klassen gleich die Anzahl der Knoten aushalb der maximalen Klasse der verbleibenden Klassen"
   ]
  },
  {
   "cell_type": "code",
   "execution_count": 4,
   "id": "58fcb747-8606-4123-a9cc-e43244e70cec",
   "metadata": {},
   "outputs": [],
   "source": [
    "def all_sum_rec(target, current_sum, start, output, result):\n",
    " if current_sum == target:\n",
    "   output.append(copy.copy(result))\n",
    "\n",
    " for i in range(start, target):\n",
    "   temp_sum = current_sum + i\n",
    "   if temp_sum <= target:\n",
    "     result.append(i)\n",
    "     all_sum_rec(target, temp_sum, i, output, result)\n",
    "     result.pop()\n",
    "   else:\n",
    "     return\n",
    "def all_sum(target,leng): #the function finds all arrays of a certain length whose sum is equal to a certain number.\n",
    " output = []\n",
    " result = []\n",
    " all_sum_rec(target, 0, 1, output, result)\n",
    " output1 =np.zeros((len(output),leng),dtype=int)\n",
    " for i in range(len(output)):\n",
    "        a=np.array(output[i])\n",
    "        if len(a) <= leng:\n",
    "           for j in range(len(a)):\n",
    "              output1[i,j]=a[j]\n",
    " Temp_Matching=np.zeros((0,),dtype=int)\n",
    " for i in range(len(output1)):\n",
    "    if sum(output1[i])!=0 and (np.sum(output1[i])-2*np.max(output1[i]))>=0:\n",
    "          Temp_Matching = np.concatenate([Temp_Matching,output1[i]],axis=0)\n",
    " Temp_Matching=np.reshape(Temp_Matching,(int(len(Temp_Matching)/leng),leng))\n",
    " return Temp_Matching\n",
    "#this function finds all possible ways to connect the nodes of the maximum class as one array and the remaining ones as another array\n",
    "def Matching_with_and_without_max(W): \n",
    "    D=np.sum(W)-(2*np.max(W))\n",
    "    if D>0:\n",
    "        A=all_sum(D,len(W)-1)\n",
    "        Matching_without_max=np.zeros((0,len(W)),dtype=int)\n",
    "        for x in A:\n",
    "            M=list(it.permutations(x))\n",
    "            for m in M:\n",
    "                v=np.array(m)\n",
    "                v=np.insert(v,np.argmax(W),0,axis=0)\n",
    "                if (v<=W).all():\n",
    "                    Matching_without_max=np.concatenate((Matching_without_max,v.reshape(1,len(W))),axis=0)\n",
    "    elif D==0:\n",
    "        Matching_without_max=np.zeros((1,len(W)),dtype=int)\n",
    "    Matching_without_max=np.unique(Matching_without_max,axis=0)\n",
    "    Matching_with_max=np.zeros([0,len(W)],dtype=int)\n",
    "    for x in Matching_without_max:\n",
    "        b=W-x\n",
    "        Matching_with_max=np.concatenate([Matching_with_max,b.reshape(1,len(W))],axis=0)\n",
    "    M1=np.zeros((0,len(W)),dtype=int)\n",
    "    M=[]\n",
    "    for i in range(len(Matching_with_max)):\n",
    "        M1=np.concatenate((Matching_with_max[i].reshape(1,len(W)),Matching_without_max[i].reshape(1,len(W))),axis=0)\n",
    "        M.append(M1)\n",
    "    return(M)\n",
    "\n",
    "def condition(K):# The condition for ending that while loop\n",
    "    index=True\n",
    "    for x in K:\n",
    "        if np.sum(x[-1])-(2*np.max(x[-1]))!=0:\n",
    "            index=False\n",
    "            break\n",
    "    return(index)\n",
    "\n",
    "def extension_of_matching(L):\n",
    "    K=[]\n",
    "    for x in L:\n",
    "        if np.sum(x[-1])-(2*np.max(x[-1]))!=0:\n",
    "            z=Matching_with_and_without_max(x[-1])\n",
    "            for y in z:\n",
    "                G=np.zeros((0,len(y[0])),dtype=int)\n",
    "                G=np.concatenate((x[:-1],y[0].reshape(1,len(y[0])),y[1].reshape(1,len(y[0]))),axis=0)\n",
    "                K.append(G)\n",
    "        else:\n",
    "            K.append(x)\n",
    "    return(K)\n",
    "\n",
    "def find_all_matching(W): # the function to find all possible matchings of a complete k-partite graph as a Matrix. \n",
    "    secondstep=Matching_with_and_without_max(W)\n",
    "    index=condition(secondstep)\n",
    "    while index==False:\n",
    "          secondstep=extension_of_matching(secondstep)\n",
    "          index=condition(secondstep)\n",
    "    return secondstep"
   ]
  },
  {
   "cell_type": "markdown",
   "id": "bb906d6b-efe4-4185-b340-3945582ad51a",
   "metadata": {},
   "source": [
    "### 2-Die zweite Funktion berechnet die Frequenz für jedes Matching aus der Menge $\\mathbf{P}^2_{\\mathbb K_{W}}$: \n",
    "\\begin{equation}\\mathfrak{fq}_{p,\\mathbb K_{W}}:=\\frac{W!}{p_{12}!p_{13}!\\dots p_{1k}!p_{23}!\\dots p_{(k-1)k}!}\\end{equation} \n",
    "Die Frequenz eines Matching in einem vollständigen k-partiten Graphen (mit labelten Klassen und unlabelten Knoten) $\\mathbb K_{W}$ ist die Anzahl, wie oft das Matching in der Menge $\\mathbf{P}^2_{\\mathbb K_{W}}$ ersheint"
   ]
  },
  {
   "cell_type": "code",
   "execution_count": 5,
   "id": "6b02ccb7-288a-45ab-b42e-5e59359c0635",
   "metadata": {},
   "outputs": [],
   "source": [
    "def frequency_of_Matching(All_Matching,L):\n",
    "    frequency_of_Matching=np.zeros((0,1))\n",
    "    for x in All_Matching:\n",
    "        fr=np.ones((1,1))\n",
    "        for y in x:\n",
    "            F=without_max(y)\n",
    "            fr*=product(factorial(F))\n",
    "        frequency_of_Matching=np.concatenate((frequency_of_Matching,L/fr))\n",
    "    return(frequency_of_Matching)"
   ]
  },
  {
   "cell_type": "markdown",
   "id": "30afa24f-b649-4f5d-9d10-95d935713650",
   "metadata": {},
   "source": [
    " ### 3-Die dritte Funktion berechnet für jedes Matching aus der Menge $\\mathbf{P}^2_{\\mathbb K_{W}}$ das Bild, das aus der Menge der Projektionen der Dyck-Wörter auf $W$ herkommt,  durch die Funktion $\\mathbf h$, die wie folgend definiert ist:\n",
    "\\begin{align*}&p=(12)^{p_{12}}(13)^{p_{13}}\\dots (1k)^{p_{1k}}(23)^p_{23}\\dots (2k)^{p_{2k}}\\dots (k-1k)^{p_{k-1k}}\\\\&\\mathbf h(p)=[+{\\sum_{\\ell>1}^kp_{1\\ell}}][-{p_{12}}+{\\sum_{\\ell>2}^kp_{2\\ell}}]\\dots[-{\\sum_{\\ell=1}^{l-1}p_{\\ell l}}+{\\sum_{\\ell>l}^kp_{l\\ell}}]\\dots[-{\\sum_{\\ell=1}^{k-1}p_{\\ell k}}]\\in \\mathfrak{DW}\\end{align*}\n",
    "Wobei $\\mathfrak{DW}$ die Menge der Projeketionen der Dyck-Wörter auf dem Wort $W$."
   ]
  },
  {
   "cell_type": "code",
   "execution_count": 6,
   "id": "10b9b15e-c20d-418e-8f86-2b5858056917",
   "metadata": {},
   "outputs": [],
   "source": [
    "def partialDyckWords(M):\n",
    "    DyckWords=np.zeros(M.shape,dtype=int)\n",
    "    k=np.argmax(M)\n",
    "    for j in range(M.shape[0]):\n",
    "         DyckWords[j]=int(M[j]*np.sign(k-j))\n",
    "    DyckWords[k]=int(-np.sum(DyckWords))\n",
    "    return(DyckWords)\n",
    "\n",
    "def DYCKWORDS(Matching,W):\n",
    "    DW=np.zeros((0,len(W)),dtype=int)\n",
    "    for i in range(len(Matching)):\n",
    "        DW_part=0\n",
    "        for j in range(len(Matching[i])):\n",
    "            DW_part=DW_part+partialDyckWords(Matching[i][j])\n",
    "        DW=np.concatenate((DW,DW_part.reshape(1,len(Matching[0][0]))),axis=0)\n",
    "    return(DW)"
   ]
  },
  {
   "cell_type": "markdown",
   "id": "0d648ce6-8de0-403a-b698-5d5ce51bcf02",
   "metadata": {},
   "source": [
    "### 4-Die vierte Funktion (FQ_dw_W) findet alle Matchings aus $\\mathbf{P}^2_{\\mathbb K_{W}}$ der Menge der perfekten Matchings des vollständigen k-partiten Graphen, die eine identische Projektion haben, und summiert ihre Frequenzen "
   ]
  },
  {
   "cell_type": "code",
   "execution_count": 7,
   "id": "9e843d21-f155-41fc-9c81-3c608e044da2",
   "metadata": {},
   "outputs": [],
   "source": [
    "def FQ_dw_W(DW,frequency,Unique):\n",
    "    Frequency_of_dw_in_W=np.zeros((0,1))\n",
    "    for x in  Unique:\n",
    "        frequency_of_dw_in_W=np.zeros((1,1))\n",
    "        for i in range(len(DW)):\n",
    "            if (x==DW[i]).all():\n",
    "                frequency_of_dw_in_W=frequency_of_dw_in_W+frequency[i]\n",
    "        Frequency_of_dw_in_W=np.concatenate((Frequency_of_dw_in_W,frequency_of_dw_in_W),axis=0)    \n",
    "    return(Frequency_of_dw_in_W)"
   ]
  },
  {
   "cell_type": "markdown",
   "id": "0572fb10-dfd8-40d1-a45e-9b5b7ed89a3e",
   "metadata": {},
   "source": [
    "### 5-Die fünfte Funktion gibt alle Projektionen (die Bilder aller Matchings aus der Menge $\\mathbf{P}^2_{\\mathbb K_{W}}$ durch $\\mathbf h$)  und die Frequenz $\\mathfrak{fq}_{(\\mathfrak{dw},W)}$ einer Dyckwort-Projektion in einem Graphen $\\mathbb k_{W}$."
   ]
  },
  {
   "cell_type": "code",
   "execution_count": 8,
   "id": "e07af930-9727-4a3b-b505-c92615308daf",
   "metadata": {},
   "outputs": [],
   "source": [
    "def projektions_of_Dyckwords_with_frequeny_on(W):\n",
    "    L=product(factorial(W))\n",
    "    All_Matching=find_all_matching(W)\n",
    "    frequency=frequency_of_Matching(All_Matching,L)\n",
    "    DW=DYCKWORDS(All_Matching,W)\n",
    "    Unique_DW=np.unique(DW,axis=0)\n",
    "    Frequency_of_dw_in_W=FQ_dw_W(DW,frequency,Unique_DW)\n",
    "    return(Unique_DW,Frequency_of_dw_in_W)"
   ]
  },
  {
   "cell_type": "markdown",
   "id": "0737bbfe-13c6-43c1-85a4-005ca8e35d8f",
   "metadata": {},
   "source": [
    "#### Für ein Wort $W=i_1i_2\\dots i_k $ definiere ich das Kartesische Produkt $\\mathsf{PROD}=[\\lfloor\\frac{i_1}{2}\\rfloor]\\times[\\lfloor\\frac{i_2}{2}\\rfloor]\\times\\dots\\times[\\lfloor\\frac{i_k}{2}\\rfloor]$. Dann gilt:\n",
    "  \\begin{equation}P^2_{\\mathbb M[i_1i_2\\dots i_k]}=\\bigcup_{ \\mathsf{prod}\\in \\mathsf{PROD} }(11)^{\\mathsf{prod}_1}\\star (22)^{\\mathsf{prod}_2}\\star\\dots\\star (kk)^{\\mathsf{prod}_k}\\star P^2_{\\mathbb K_{W-2\\mathsf{prod}}}\\end{equation}"
   ]
  },
  {
   "cell_type": "markdown",
   "id": "665f9a0c-bd2e-4eea-98c9-48c6993fc217",
   "metadata": {},
   "source": [
    "### Die folgende Funktion wiederholt die fünf Funktionen und findet für alle $\\forall \\mathsf{prod}\\in \\mathsf{PROD}$ eine List von den Projektionen und deren Frequenzen "
   ]
  },
  {
   "cell_type": "code",
   "execution_count": 9,
   "id": "bab46707-86e6-4fc4-85d0-fa1cfd410ebc",
   "metadata": {},
   "outputs": [],
   "source": [
    "def All_Dyck_Words(W):\n",
    "    X=rounded_halves(W)\n",
    "    Graphs = [i for i in it.product(*X)]\n",
    "    ALL_DYCK_WORDS=[]\n",
    "    for x in Graphs:\n",
    "        x1=np.array(x)\n",
    "        w=W-2*x1\n",
    "        p=np.array([int(np.sum(w)/2)])\n",
    "        D=np.sum(w)-(2*np.max(w))\n",
    "        if D>=0:\n",
    "            [Unique_DW,Frequency_of_dw_in_W]=projektions_of_Dyckwords_with_frequeny_on(w)\n",
    "            x1_factorial=product(factorial(x1))\n",
    "            w_factorial=product(factorial(w))\n",
    "            coefficient=Frequency_of_dw_in_W/(x1_factorial*w_factorial)\n",
    "            ALL_DYCK_WORDS.append([p,coefficient,Unique_DW])\n",
    "    return(ALL_DYCK_WORDS)"
   ]
  },
  {
   "cell_type": "markdown",
   "id": "c610b636-ca38-4c0a-97c1-1f4a4ff9a2ca",
   "metadata": {},
   "source": [
    "### - Die folgende Funktion durchsucht die Ergebnisliste der letzten Funktion nach identischen Projektionen und zieht diese als gemaeinsamen Faktor und baut aus den Frequenzen und der Defferenz zwischen dem $\\mathsf{prod}$ und das Wort $W$ ein Polynom auf:\n",
    "\\begin{align*}\\mathcal P(\\varphi,\\mathfrak{dw}):=\\sum_{w_{\\mathfrak{dw}} \\in \\mathfrak W_{\\mathfrak{dw}}}\\frac{\\mathfrak{fq}_{(\\mathfrak{dw},w_{\\mathfrak{dw}})}}{\\frac{W-w_{\\mathfrak{dw}}}{2}! w_{\\mathfrak{dw}}!}(\\frac{- (1-\\varphi)}{ \\varphi})^{\\frac{w_{\\mathfrak{dw}}}{2}}\\end{align*}\n",
    " \\begin{equation*}\\operatorname{E}[\\langle\\operatorname{ISS}(X),W\\rangle]=W!(\\frac{\\sigma^2}{1+\\varphi})^{\\frac{W}{2}}\\sum_{\\mathfrak{dw} \\in \\mathfrak{DW}}P(\\varphi,\\mathfrak{dw})\\langle \\operatorname{ISS}(Z),\\mathfrak{dw} \\rangle\\end{equation*}"
   ]
  },
  {
   "cell_type": "code",
   "execution_count": 10,
   "id": "d4ae767b-e8e7-4793-b2e4-9615b8c41f52",
   "metadata": {
    "tags": []
   },
   "outputs": [],
   "source": [
    "def the_expected_value_of_word(W):\n",
    "    All_Dyck_Words_withcoefficient=All_Dyck_Words(W)\n",
    "    the_set_of_all_projektion=np.zeros((0,len(W)))\n",
    "    for i in range(len(All_Dyck_Words_withcoefficient)):\n",
    "        the_set_of_all_projektion=np.concatenate((the_set_of_all_projektion,All_Dyck_Words_withcoefficient[i][2]),axis=0)\n",
    "    unique_the_set_of_all_projektion=np.unique(the_set_of_all_projektion,axis=0)\n",
    "    the_expected_value_of_word_W=[]\n",
    "    for x in unique_the_set_of_all_projektion:\n",
    "        power_and_coefficent_polynomial=[]\n",
    "        for y in All_Dyck_Words_withcoefficient:\n",
    "            for j in range(len(y[2])):\n",
    "                if (x==y[2][j]).all():\n",
    "                    power_and_coefficent_polynomial.append((fractions.Fraction(y[1][j][0]).limit_denominator(),y[0][0]))\n",
    "        the_expected_value_of_word_W.append([power_and_coefficent_polynomial,x.astype(int)])\n",
    "    return(the_expected_value_of_word_W)"
   ]
  },
  {
   "cell_type": "code",
   "execution_count": 11,
   "id": "ce6a38da-e6c2-4958-836d-9a13cc7abc72",
   "metadata": {},
   "outputs": [],
   "source": [
    "W=np.array([1,2,3,4])\n",
    "the_expected_value_of_word_W=the_expected_value_of_word(W)"
   ]
  },
  {
   "cell_type": "code",
   "execution_count": 12,
   "id": "98c49fc3-05a7-4953-9033-1d1dcae9a050",
   "metadata": {},
   "outputs": [],
   "source": [
    "Df_the_expected_value_of_word_W=pd.DataFrame(the_expected_value_of_word_W,columns=['(fracture,Power_of_the_constant)','Dyckword'])"
   ]
  },
  {
   "cell_type": "markdown",
   "id": "1ff4a923-9392-4958-8c7a-25c10248b06b",
   "metadata": {},
   "source": [
    "### Aus der folgenden Data Frame kann die folgende Formel bilden:\n",
    "\\begin{align*}\\mathcal P(\\varphi,\\mathfrak{dw}):=\\sum_{w_{\\mathfrak{dw}} \\in \\mathfrak W_{\\mathfrak{dw}}}\\frac{\\mathfrak{fq}_{(\\mathfrak{dw},w_{\\mathfrak{dw}})}}{\\frac{W-w_{\\mathfrak{dw}}}{2}! w_{\\mathfrak{dw}}!}(\\frac{- (1-\\varphi)}{ \\varphi})^{\\frac{w_{\\mathfrak{dw}}}{2}}\\end{align*}\n",
    " \\begin{equation*}\\operatorname{E}[\\langle\\operatorname{ISS}(X),W\\rangle]=W!(\\frac{\\sigma^2}{1+\\varphi})^{\\frac{W}{2}}\\sum_{\\mathfrak{dw} \\in \\mathfrak{DW}}P(\\varphi,\\mathfrak{dw})\\langle \\operatorname{ISS}(Z),\\mathfrak{dw} \\rangle\\end{equation*}\n",
    " ### Aus der ersten Spalte bildet man das Polynum $ P(\\varphi,\\mathfrak{dw})$,wobei jeder Term vom Polynom wird aus einem Paar der Spalte gebildet.\n",
    "\\begin{align*} \\text{wobei fracture}=\\frac{\\mathfrak{fq}_{(\\mathfrak{dw},w_{\\mathfrak{dw}})}}{\\frac{W-w_{\\mathfrak{dw}}}{2}! w_{\\mathfrak{dw}}!},\\text{ Power_of_the_constant}= \\frac{w_{\\mathfrak{dw}}}{2} \\end{align*}. \n",
    "### Die zweite Spalte ist der Beitrag in der iterierten Summe auf der rechten Seite Dyckword=$\\mathfrak{dw}$."
   ]
  },
  {
   "cell_type": "code",
   "execution_count": 13,
   "id": "20a20ad1-d6d8-44aa-ad87-eff9140c777f",
   "metadata": {},
   "outputs": [
    {
     "data": {
      "text/html": [
       "<div>\n",
       "<style scoped>\n",
       "    .dataframe tbody tr th:only-of-type {\n",
       "        vertical-align: middle;\n",
       "    }\n",
       "\n",
       "    .dataframe tbody tr th {\n",
       "        vertical-align: top;\n",
       "    }\n",
       "\n",
       "    .dataframe thead th {\n",
       "        text-align: right;\n",
       "    }\n",
       "</style>\n",
       "<table border=\"1\" class=\"dataframe\">\n",
       "  <thead>\n",
       "    <tr style=\"text-align: right;\">\n",
       "      <th></th>\n",
       "      <th>(fracture,Power_of_the_constant)</th>\n",
       "      <th>Dyckword</th>\n",
       "    </tr>\n",
       "  </thead>\n",
       "  <tbody>\n",
       "    <tr>\n",
       "      <th>0</th>\n",
       "      <td>[(1/2, 2), (1/2, 1)]</td>\n",
       "      <td>[1, 0, -1, 0]</td>\n",
       "    </tr>\n",
       "    <tr>\n",
       "      <th>1</th>\n",
       "      <td>[(1/2, 4), (1, 3), (1/2, 3), (1, 2)]</td>\n",
       "      <td>[1, 0, 1, -2]</td>\n",
       "    </tr>\n",
       "    <tr>\n",
       "      <th>2</th>\n",
       "      <td>[(1/6, 5), (1/6, 4)]</td>\n",
       "      <td>[1, 0, 3, -4]</td>\n",
       "    </tr>\n",
       "    <tr>\n",
       "      <th>3</th>\n",
       "      <td>[(1/4, 3)]</td>\n",
       "      <td>[1, 2, -3, 0]</td>\n",
       "    </tr>\n",
       "    <tr>\n",
       "      <th>4</th>\n",
       "      <td>[(3/2, 4), (3/2, 3)]</td>\n",
       "      <td>[1, 2, -1, -2]</td>\n",
       "    </tr>\n",
       "    <tr>\n",
       "      <th>5</th>\n",
       "      <td>[(3/4, 5), (1/2, 4)]</td>\n",
       "      <td>[1, 2, 1, -4]</td>\n",
       "    </tr>\n",
       "  </tbody>\n",
       "</table>\n",
       "</div>"
      ],
      "text/plain": [
       "       (fracture,Power_of_the_constant)        Dyckword\n",
       "0                  [(1/2, 2), (1/2, 1)]   [1, 0, -1, 0]\n",
       "1  [(1/2, 4), (1, 3), (1/2, 3), (1, 2)]   [1, 0, 1, -2]\n",
       "2                  [(1/6, 5), (1/6, 4)]   [1, 0, 3, -4]\n",
       "3                            [(1/4, 3)]   [1, 2, -3, 0]\n",
       "4                  [(3/2, 4), (3/2, 3)]  [1, 2, -1, -2]\n",
       "5                  [(3/4, 5), (1/2, 4)]   [1, 2, 1, -4]"
      ]
     },
     "execution_count": 13,
     "metadata": {},
     "output_type": "execute_result"
    }
   ],
   "source": [
    "Df_the_expected_value_of_word_W"
   ]
  }
 ],
 "metadata": {
  "kernelspec": {
   "display_name": "Python 3",
   "language": "python",
   "name": "python3"
  },
  "language_info": {
   "codemirror_mode": {
    "name": "ipython",
    "version": 3
   },
   "file_extension": ".py",
   "mimetype": "text/x-python",
   "name": "python",
   "nbconvert_exporter": "python",
   "pygments_lexer": "ipython3",
   "version": "3.9.2"
  }
 },
 "nbformat": 4,
 "nbformat_minor": 5
}
