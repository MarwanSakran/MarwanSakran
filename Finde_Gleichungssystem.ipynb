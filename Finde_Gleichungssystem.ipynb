{
 "cells": [
  {
   "cell_type": "markdown",
   "id": "76819ec5-23e3-42b8-bd11-424f3f3c7735",
   "metadata": {},
   "source": [
    "# Der erwartungswert im allgemeinen Fall mit Hilfe des Gleichungssystems\n",
    "Der Erwartungswert einer iterierten Summe von AR(1) mit dem Wort $W=i_1i_2\\dots i_k$ laut Satz 7.3.33. hat der Form:\n",
    " \\begin{equation}\\operatorname{E}[\\langle\\operatorname{ISS}(X),W\\rangle]=W!(\\frac{\\sigma^2}{1+\\varphi})^{\\frac{W}{2}}\\sum_{\\mathfrak{dw} \\in \\mathfrak{DW}}P(\\varphi,\\mathfrak{dw})\\langle \\operatorname{ISS}(Z),\\mathfrak{dw} \\rangle\\end{equation}\\begin{align*}\\mathcal P(\\varphi,\\mathfrak{dw}):=\\sum_{w_{\\mathfrak{dw}} \\in \\mathfrak W_{\\mathfrak{dw}}}\\frac{\\mathfrak{fq}_{(\\mathfrak{dw},w_{\\mathfrak{dw}})}}{\\frac{W-w_{\\mathfrak{dw}}}{2}! w_{\\mathfrak{dw}}!}(\\frac{- (1-\\varphi)}{ \\varphi})^{\\frac{w_{\\mathfrak{dw}}}{2}}\\end{align*}\\begin{equation*}\n",
    "    \\mathfrak{fq}_{(\\mathfrak{dw},w_{\\mathfrak{dw}})}=w_{\\mathfrak{dw}}!\\sum_{p \\in\\mathbf{Solutions}_{(\\mathfrak{dw},w_{\\mathfrak{dw}})}}\\frac{1}{p!}\\end{equation*}"
   ]
  },
  {
   "cell_type": "code",
   "execution_count": 1,
   "id": "9f1f7ddb-509d-4f75-a3c5-2ed9a8cb980c",
   "metadata": {},
   "outputs": [],
   "source": [
    "import numpy as np\n",
    "import pandas as pd \n",
    "import copy\n",
    "import itertools as it\n",
    "from itertools import product\n",
    "import scipy\n",
    "from scipy.special import comb\n",
    "import pprint\n",
    "import sympy\n",
    "import math"
   ]
  },
  {
   "cell_type": "markdown",
   "id": "c40b55c7-b857-48eb-b245-90b747af6b0e",
   "metadata": {},
   "source": [
    " In der Formel des Erwartungswerts summiert man über die die Menge $\\mathfrak{DW}$ die Menge der Projektionen der $\\Omega_{2m}$ Dyck-Wörter der Länge $2m=i_1+i_2+\\dots+i_k$, diese Menge ist in der Masterarbeit in Definition 7.3.23 und man kann sie mit Hilfe der in Bemerkung 7.3.25 definierten Funktion  finden $\\mathfrak{f}_W$.\n",
    "\\begin{align*}\n",
    "   &\\mathfrak{f}_W: \\Omega_{2m}\\rightarrow \\mathbb Z^{k}, \\omega_{2m} \\rightarrow z \\\\& z_l=\\sum_{\\ell =t_{l-1}}^{t_{l}} \\omega_\\ell \\text{ with } t_{l-1}=\\sum_{\\ell =1}^{l-1} i_\\ell \\text{ and } t_{l}=\\sum_{\\ell =1}^{l} i_\\ell\n",
    "\\end{align*}"
   ]
  },
  {
   "cell_type": "markdown",
   "id": "e8c0bc57-133f-498a-876c-ce796cca287a",
   "metadata": {},
   "source": [
    "Zuerst führe Der folgende Algorithmus erzeugt die Menge der Dyckwörter mithilfe der Positionen von -1 wieder ein. Diser Algorithmus produziert die Menge der Dyck-Wörter der Länge $2m$."
   ]
  },
  {
   "cell_type": "code",
   "execution_count": 2,
   "id": "615b5c0e-ab83-4a31-aa5e-c342e82f4e1e",
   "metadata": {},
   "outputs": [],
   "source": [
    "def Positions_Minuses_inDyckwords(W):\n",
    "    #gernrating the dyck words with the length (2k)\n",
    "    k =int(sum(W)/2)\n",
    "    #the array of the positions of the 1's (the \"-\")\n",
    "    POS=np.zeros([1,k], dtype = int)\n",
    "    #the number of the perfect matching of the set {1,2k}, which ist equivalent to each Dyck Word\n",
    "    Coeff=np.ones([0,1], int)\n",
    "    A=np.zeros([1,k], dtype = int)\n",
    "    #the Dyck words represented mit \"+\",\"-\"\n",
    "    Dyck_Words=np.full([0,2*k], +1)\n",
    "    #the first( smallest ) word\n",
    "    for i in range(0,k):\n",
    "      POS[0][i]=2*(i+1)\n",
    "      A[0][i]=2*(i+1)\n",
    "    ind=True\n",
    "    while ind == True:\n",
    "        ind=False\n",
    "        C=np.full([1,2*k], +1)\n",
    "        B=np.ones([1,1], dtype = int)\n",
    "        for i in range(0,k):\n",
    "            B=B*(A[0][i]+1-2*(i+1))\n",
    "            C[0][A[0][i]-1]=-1\n",
    "        Coeff=np.concatenate((Coeff,B),axis=0)\n",
    "        Dyck_Words = np.concatenate((Dyck_Words,C),axis=0)\n",
    "        for i in range(k-2,-1,-1):\n",
    "            if A[0][i]< k+1+i:\n",
    "               A[0][i]=A[0][i]+1\n",
    "               for j  in range(i+1,k-1):\n",
    "                   A[0][j]=max(A[0][j-1]+1,2*(j+1))\n",
    "               ind=True\n",
    "               POS=np.concatenate((POS,A), axis = 0)\n",
    "               break\n",
    "    return(Dyck_Words)"
   ]
  },
  {
   "cell_type": "markdown",
   "id": "8ace2c81-1556-4172-8a8d-fb7820ca3190",
   "metadata": {},
   "source": [
    " #### Die folgende Funktion findet die Projetionen der Dyck-Wörter auf das Wort $W$. Diese Projektionen sind in Definition 7.3.23. in der Masterarbeit definert.\n",
    " Mit Hilfe der Bemerkung 7.3.25. und der Funktion \n",
    " \\begin{align*} &\\mathfrak{f}_W: \\Omega_{2m}\\rightarrow \\mathbb Z^{k}, \\omega_{2m} \\rightarrow z \\\\ & z_l=\\sum_{\\ell =t_{l-1}}^{t_{l}} \\omega_\\ell \\text{ with } t_{l-1}=\\sum_{\\ell =1}^{l-1} i_\\ell \\text{ and } t_{l}=\\sum_{\\ell =1}^{l} i_\\ell\\end{align*} Die folgende Funktion findet    $\\mathfrak{DW}$ die Menge der Projetionen der Dyck-Wörter auf das Wort $W$."
   ]
  },
  {
   "cell_type": "code",
   "execution_count": 3,
   "id": "cf54f631-300c-4196-98c2-573c0e79100c",
   "metadata": {},
   "outputs": [],
   "source": [
    "def find_the_Projektions(W):\n",
    "    POS=Positions_Minuses_inDyckwords(W)\n",
    "    indexes=W[:-1]\n",
    "    return(np.unique(np.add.reduceat(POS,np.cumsum([0,*indexes]),axis=1),axis=0))"
   ]
  },
  {
   "cell_type": "markdown",
   "id": "690c8eeb-58c3-4f9f-9a69-9c8c02dffa9f",
   "metadata": {},
   "source": [
    "Für ein Wort $W=i_1i_2\\dots i_k $ definiere ich das Kartesische Produkt $\\mathsf{PROD}=[\\lfloor\\frac{i_1}{2}\\rfloor]\\times[\\lfloor\\frac{i_2}{2}\\rfloor]\\times\\dots\\times[\\lfloor\\frac{i_k}{2}\\rfloor]$. Dann gilt:\n",
    "  \\begin{equation}P^2_{\\mathbb M[i_1i_2\\dots i_k]}=\\bigcup_{ \\mathsf{prod}\\in \\mathsf{PROD} }(11)^{\\mathsf{prod}_1}\\star (22)^{\\mathsf{prod}_2}\\star\\dots\\star (kk)^{\\mathsf{prod}_k}\\star P^2_{\\mathbb K_{\\underbrace{W-2\\mathsf{prod}}_{w}}}\\end{equation}\n",
    "Ich definiere die Wörtermenge der Teilgraphen, aus denen die Menge der perfekten Matchings (Paarungen) besteht:\n",
    " \\begin{equation}\\mathfrak W:=\\{w| w= w \\text{ für alle }\\mathsf{prod} \\in \\mathsf{PROD}, (\\sum_{l=1}^k w_l -2 \\mathbf{ max }_l \\; w_l) \\ge 0\\}\\end{equation}\n",
    "Die folgende Funktion findet die Menge $\\mathfrak W$"
   ]
  },
  {
   "cell_type": "code",
   "execution_count": 4,
   "id": "2ba6c190-cf8a-4e4b-a2be-e785f4c23eb6",
   "metadata": {},
   "outputs": [],
   "source": [
    "def rounded_halves(A):\n",
    "    X=[]\n",
    "    for i in range(len(A)):\n",
    "        X.append(list(range(int(np.floor(A[i]/2)+1))))\n",
    "    return(X)\n",
    "def Possible_Graphs(W):\n",
    "    Graphs=np.zeros((0,len(W)),dtype=int)\n",
    "    X=rounded_halves(W)\n",
    "    cartesian_product = [i for i in it.product(*X)]\n",
    "    for x in cartesian_product:\n",
    "          A=np.array(x,int)\n",
    "          Graph=np.array(2*A+(W%2),int)\n",
    "          Diff=sum(Graph)-2*Graph[np.argmax(Graph)]\n",
    "          if Diff>=0:\n",
    "                Graphs=np.concatenate((Graphs,Graph.reshape(1,len(W))),axis=0)\n",
    "    return(Graphs)"
   ]
  },
  {
   "cell_type": "markdown",
   "id": "ae11d987-c82f-4e89-8d00-70acb3759327",
   "metadata": {},
   "source": [
    "In der Summe steht auch das Polynom $\\mathcal P(\\varphi,\\mathfrak{dw})$, das eine Summe über $\\mathfrak W_{\\mathfrak{dw}}$, die eine Teil Menge von $\\mathfrak W$ ist, mit der Bedingung, \\begin{align}\n",
    "\\text{Für ein }\\mathfrak{dw}\\; \\forall w \\in \\mathfrak W \\text{ mit }    \\mathfrak{dw}_1=w_1,\\;|\\mathfrak{dw}_l|\\le w_l,\\; -\\mathfrak{dw}_k=w_k \\Rightarrow  w \\in \\mathfrak W_{\\mathfrak{dw}}\n",
    "\\end{align}\n",
    "Die folgende Funktion findet für jede Projektion $\\mathfrak{dw}$ die Menge $\\mathfrak W_{\\mathfrak{dw}}$"
   ]
  },
  {
   "cell_type": "code",
   "execution_count": 5,
   "id": "f525f978-eacc-4d17-a9a9-8031ea7e0d86",
   "metadata": {},
   "outputs": [],
   "source": [
    "def Projektions_and_its_Graphs(W):\n",
    "    Graphs=Possible_Graphs(W)\n",
    "    Projektions=find_the_Projektions(W)\n",
    "    Graphs_of_a_Projektion=[]\n",
    "    for x in Projektions:\n",
    "        absolute=np.absolute(x)\n",
    "        graphs_of_x=np.zeros((0,len(x)),dtype=int)\n",
    "        for y in Graphs:\n",
    "            if absolute[0]==y[0] and absolute[-1]==y[-1] and (absolute<=y).all():\n",
    "                graphs_of_x=np.concatenate((graphs_of_x,y.reshape(1,len(y))),axis=0)\n",
    "        Graphs_of_a_Projektion.append([x,graphs_of_x])\n",
    "    return(Graphs_of_a_Projektion)"
   ]
  },
  {
   "cell_type": "markdown",
   "id": "b5f0b10b-a992-4f04-873e-0bbec98acf31",
   "metadata": {},
   "source": [
    "Nachdem man die Menge $\\mathfrak W_{\\mathfrak{dw}}$ für alle $\\mathfrak{dw} \\in \\mathfrak{DW}$ brechnet hat, bleibt nur der Frequenz der Projektion eines Dyck-Wöter $\\mathfrak{dw}$, um das Polynom $\\mathcal P(\\varphi,\\mathfrak{dw})$ zu berrechnen- \\begin{align*}\\mathcal P(\\varphi,\\mathfrak{dw}):=\\sum_{w_{\\mathfrak{dw}} \\in \\mathfrak W_{\\mathfrak{dw}}}\\frac{\\mathfrak{fq}_{(\\mathfrak{dw},w_{\\mathfrak{dw}})}}{\\frac{W-w_{\\mathfrak{dw}}}{2}! w_{\\mathfrak{dw}}!}(\\frac{- (1-\\varphi)}{ \\varphi})^{\\frac{w_{\\mathfrak{dw}}}{2}}\\end{align*}\\begin{equation*}\n",
    "    \\mathfrak{fq}_{(\\mathfrak{dw},w_{\\mathfrak{dw}})}=w_{\\mathfrak{dw}}!\\sum_{p \\in\\mathbf{Solutions}_{(\\mathfrak{dw},w_{\\mathfrak{dw}})}}\\frac{1}{p!}\\end{equation*}\n",
    "um die Frequenz zu berrechnen, braucht man $\\mathbf{Solutions}_{(\\mathfrak{dw},w_{\\mathfrak{dw}})}$ die Lösungsmenge des in der (Definition 7.3.26) präsentierte (Projektion)-(Matching)-Gleichungssystem, das ein lineares diophantisches Gleichungssystem ist und  die folgende Form hat: \n",
    "\\begin{align*}&p_{12}+p_{13}+\\dots+p_{1k}=w_1\\\\&p_{12}+p_{23}+\\dots+p_{2k}=w_2\\\\&\\qquad \\vdots \\\\&p_{1l}+p_{2l}+\\dots+p_{(l-1)l}+p_{l(l+1)}+\\dots+p_{2k}=w_l\\\\&\\qquad \\vdots\\\\&p_{1k}+p_{2k}+\\dots+p_{(k-1)k}=w_k\\\\&p_{12}+p_{13}+\\dots+p_{1k}=\\mathfrak{dw}_1\\\\&-p_{12}+p_{23}+\\dots+p_{2k}=\\mathfrak{dw}_2\\\\&\\qquad \\vdots\\\\&-p_{1l}-p_{2l}-\\dots-p_{(l-1)l}+p_{l(l+1)}+\\dots+p_{2k}=\\mathfrak{dw}_l \\\\&\\qquad \\vdots \\\\&-p_{1k}-p_{2k}-\\dots-p_{(k-1)k}=\\mathfrak{dw}_k\\end{align*}\n",
    "Das Gleichungssystem kann in Matrixform geschrieben werden,\\begin{align*}\n",
    "        \\mathbf{Matrix}\\cdot\n",
    "     \\begin{pmatrix}\n",
    "     p_{12}\\\\p_{13}\\\\p_{14}\\\\p_{23}\\\\ \\vdots \\\\p_{k-1k}\n",
    "     \\end{pmatrix}=\\begin{pmatrix}\n",
    "     w^\\top\\\\\\mathfrak{dw}^\\top\n",
    "     \\end{pmatrix}\n",
    "     \\end{align*}\n",
    "Die folgende Funktion brechnet die Matrix des Gleichungssystems, welche nur von der Länge des Wort $W$ abhängt."
   ]
  },
  {
   "cell_type": "code",
   "execution_count": 6,
   "id": "529c8289-3f76-463b-b162-857ced019e44",
   "metadata": {},
   "outputs": [],
   "source": [
    "def Matrix_of_the_leqs_(k):\n",
    "    L=list(it.combinations(range(1,k+1),2))\n",
    "    M=np.zeros((2*k,len(L)),int)\n",
    "    for i in range(1,k+1):\n",
    "        for j in range(len(L)):\n",
    "            if i == L[j][0]:\n",
    "                M[i-1,j]=1\n",
    "                M[k+i-1,j]=1\n",
    "            elif i==L[j][1]:\n",
    "                M[i-1,j]=1\n",
    "                M[k+i-1,j]=-1\n",
    "    return(M)"
   ]
  },
  {
   "cell_type": "markdown",
   "id": "e8530cae-38a4-4cc3-b5f1-eecaa2f3ae36",
   "metadata": {},
   "source": [
    "Und der folgende Code berechnet für jede $\\mathfrak{dw}$ die rechte Seite des Gleichungssystems:"
   ]
  },
  {
   "cell_type": "code",
   "execution_count": 7,
   "id": "a45df0f1-0c6e-421f-8b29-e9d208041c3f",
   "metadata": {},
   "outputs": [],
   "source": [
    "W=np.array([1,2,3,4])\n",
    "Projektions_and_its_Graphs1=Projektions_and_its_Graphs(W)"
   ]
  },
  {
   "cell_type": "code",
   "execution_count": 8,
   "id": "34f2da58-ae56-476e-87ed-6a1717d5c1e9",
   "metadata": {},
   "outputs": [],
   "source": [
    "Rightside_Equqtion_system=[]\n",
    "for x in Projektions_and_its_Graphs1:\n",
    "    v=[]\n",
    "    for y in x[1]:\n",
    "        v.append(np.concatenate((y,x[0])))\n",
    "    Rightside_Equqtion_system.append([x[0],v])"
   ]
  },
  {
   "cell_type": "code",
   "execution_count": 9,
   "id": "8fd0cedb-bb1f-4da5-885f-8ec2b69c255e",
   "metadata": {},
   "outputs": [],
   "source": [
    "Matrix=Matrix_of_the_leqs_(len(W))"
   ]
  },
  {
   "cell_type": "code",
   "execution_count": 10,
   "id": "cf21104d-9ff9-477a-a4fc-a35a7c0f88ac",
   "metadata": {},
   "outputs": [
    {
     "data": {
      "text/plain": [
       "array([[ 1,  1,  1,  0,  0,  0],\n",
       "       [ 1,  0,  0,  1,  1,  0],\n",
       "       [ 0,  1,  0,  1,  0,  1],\n",
       "       [ 0,  0,  1,  0,  1,  1],\n",
       "       [ 1,  1,  1,  0,  0,  0],\n",
       "       [-1,  0,  0,  1,  1,  0],\n",
       "       [ 0, -1,  0, -1,  0,  1],\n",
       "       [ 0,  0, -1,  0, -1, -1]])"
      ]
     },
     "execution_count": 10,
     "metadata": {},
     "output_type": "execute_result"
    }
   ],
   "source": [
    "Matrix"
   ]
  },
  {
   "cell_type": "code",
   "execution_count": 11,
   "id": "9113f70c-ac9a-4c97-8fee-40c2376b3755",
   "metadata": {},
   "outputs": [
    {
     "data": {
      "text/plain": [
       "[[array([ 1,  0, -1,  0]),\n",
       "  [array([ 1,  0,  1,  0,  1,  0, -1,  0]),\n",
       "   array([ 1,  2,  1,  0,  1,  0, -1,  0]),\n",
       "   array([ 1,  2,  3,  0,  1,  0, -1,  0])]],\n",
       " [array([ 1,  0,  1, -2]),\n",
       "  [array([ 1,  0,  1,  2,  1,  0,  1, -2]),\n",
       "   array([ 1,  0,  3,  2,  1,  0,  1, -2]),\n",
       "   array([ 1,  2,  1,  2,  1,  0,  1, -2]),\n",
       "   array([ 1,  2,  3,  2,  1,  0,  1, -2])]],\n",
       " [array([ 1,  0,  3, -4]),\n",
       "  [array([ 1,  0,  3,  4,  1,  0,  3, -4]),\n",
       "   array([ 1,  2,  3,  4,  1,  0,  3, -4])]],\n",
       " [array([ 1,  2, -3,  0]), [array([ 1,  2,  3,  0,  1,  2, -3,  0])]],\n",
       " [array([ 1,  2, -1, -2]),\n",
       "  [array([ 1,  2,  1,  2,  1,  2, -1, -2]),\n",
       "   array([ 1,  2,  3,  2,  1,  2, -1, -2])]],\n",
       " [array([ 1,  2,  1, -4]),\n",
       "  [array([ 1,  2,  1,  4,  1,  2,  1, -4]),\n",
       "   array([ 1,  2,  3,  4,  1,  2,  1, -4])]]]"
      ]
     },
     "execution_count": 11,
     "metadata": {},
     "output_type": "execute_result"
    }
   ],
   "source": [
    "Rightside_Equqtion_system"
   ]
  },
  {
   "cell_type": "markdown",
   "id": "230a75cd-3468-4b5c-976c-dca3d508d83e",
   "metadata": {},
   "source": [
    "Der notebook findet das Gleichungssystem aber löst es nicht "
   ]
  }
 ],
 "metadata": {
  "kernelspec": {
   "display_name": "Python 3",
   "language": "python",
   "name": "python3"
  },
  "language_info": {
   "codemirror_mode": {
    "name": "ipython",
    "version": 3
   },
   "file_extension": ".py",
   "mimetype": "text/x-python",
   "name": "python",
   "nbconvert_exporter": "python",
   "pygments_lexer": "ipython3",
   "version": "3.9.2"
  }
 },
 "nbformat": 4,
 "nbformat_minor": 5
}
