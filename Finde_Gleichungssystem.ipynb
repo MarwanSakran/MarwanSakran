{
 "cells": [
  {
   "cell_type": "markdown",
   "id": "2c103b15-2d46-4afd-8236-a8b55dd5afd0",
   "metadata": {},
   "source": [
    "# Der erwartungswert im allgemeinen Fall mit Hilfe des Gleichungssystem"
   ]
  },
  {
   "cell_type": "code",
   "execution_count": 1,
   "id": "9f1f7ddb-509d-4f75-a3c5-2ed9a8cb980c",
   "metadata": {},
   "outputs": [],
   "source": [
    "import numpy as np\n",
    "import pandas as pd \n",
    "import copy\n",
    "import itertools as it\n",
    "from itertools import product\n",
    "import scipy\n",
    "from scipy.special import comb\n",
    "import pprint\n",
    "import sympy\n",
    "import math"
   ]
  },
  {
   "cell_type": "markdown",
   "id": "e8c0bc57-133f-498a-876c-ce796cca287a",
   "metadata": {},
   "source": [
    "## Erzeugen der Dyck-Wörter mit Hilfe der Positionen von der '-1' "
   ]
  },
  {
   "cell_type": "code",
   "execution_count": 2,
   "id": "4f4bc910-ff3c-412d-bc76-1a8bc9cc8951",
   "metadata": {},
   "outputs": [],
   "source": [
    "def Positions_Minuses_inDyckwords(W):\n",
    "    #gernrating the dyck words with the length (2k)\n",
    "    k =int(sum(W)/2)\n",
    "    #the array of the positions of the 1's (the \"-\")\n",
    "    POS=np.zeros([1,k], dtype = int)\n",
    "    #the number of the perfect matching of the set {1,2k}, which ist equivalent to each Dyck Word\n",
    "    Coeff=np.ones([0,1], int)\n",
    "    A=np.zeros([1,k], dtype = int)\n",
    "    #the Dyck words represented mit \"+\",\"-\"\n",
    "    Dyck_Words=np.full([0,2*k], +1)\n",
    "    #the first( smallest ) word\n",
    "    for i in range(0,k):\n",
    "      POS[0][i]=2*(i+1)\n",
    "      A[0][i]=2*(i+1)\n",
    "    ind=True\n",
    "    while ind == True:\n",
    "        ind=False\n",
    "        C=np.full([1,2*k], +1)\n",
    "        B=np.ones([1,1], dtype = int)\n",
    "        for i in range(0,k):\n",
    "            B=B*(A[0][i]+1-2*(i+1))\n",
    "            C[0][A[0][i]-1]=-1\n",
    "        Coeff=np.concatenate((Coeff,B),axis=0)\n",
    "        Dyck_Words = np.concatenate((Dyck_Words,C),axis=0)\n",
    "        for i in range(k-2,-1,-1):\n",
    "            if A[0][i]< k+1+i:\n",
    "               A[0][i]=A[0][i]+1\n",
    "               for j  in range(i+1,k-1):\n",
    "                   A[0][j]=max(A[0][j-1]+1,2*(j+1))\n",
    "               ind=True\n",
    "               POS=np.concatenate((POS,A), axis = 0)\n",
    "               break\n",
    "    return(Dyck_Words)"
   ]
  },
  {
   "cell_type": "code",
   "execution_count": 3,
   "id": "b06ee5fe-4f5e-40a6-a012-bb7bfd0fb856",
   "metadata": {},
   "outputs": [],
   "source": [
    "def find_the_Projektions(W):\n",
    "    POS=Positions_Minuses_inDyckwords(W)\n",
    "    indexes=W[:-1]\n",
    "    return(np.unique(np.add.reduceat(POS,np.cumsum([0,*indexes]),axis=1),axis=0))"
   ]
  },
  {
   "cell_type": "code",
   "execution_count": 4,
   "id": "e8dcff27-ed10-4daa-ba81-4f6babc438db",
   "metadata": {},
   "outputs": [],
   "source": [
    "def rounded_halves(A):\n",
    "    X=[]\n",
    "    for i in range(len(A)):\n",
    "        X.append(list(range(int(np.floor(A[i]/2)+1))))\n",
    "    return(X)\n",
    "def Possible_Graphs(W):\n",
    "    Graphs=np.zeros((0,len(W)),dtype=int)\n",
    "    X=rounded_halves(W)\n",
    "    cartesian_product = [i for i in it.product(*X)]\n",
    "    for x in cartesian_product:\n",
    "          A=np.array(x,int)\n",
    "          Graph=np.array(2*A+(W%2),int)\n",
    "          Diff=sum(Graph)-2*Graph[np.argmax(Graph)]\n",
    "          if Diff>=0:\n",
    "                Graphs=np.concatenate((Graphs,Graph.reshape(1,len(W))),axis=0)\n",
    "    return(Graphs)"
   ]
  },
  {
   "cell_type": "code",
   "execution_count": 5,
   "id": "7061f169-6be8-4f57-8f39-1d9307498099",
   "metadata": {},
   "outputs": [],
   "source": [
    "def Projektions_and_its_Graphs(W):\n",
    "    Graphs=Possible_Graphs(W)\n",
    "    Projektions=find_the_Projektions(W)\n",
    "    Graphs_of_a_Projektion=[]\n",
    "    for x in Projektions:\n",
    "        absolute=np.absolute(x)\n",
    "        graphs_of_x=np.zeros((0,len(x)),dtype=int)\n",
    "        for y in Graphs:\n",
    "            if absolute[0]==y[0] and absolute[-1]==y[-1] and (absolute<=y).all():\n",
    "                graphs_of_x=np.concatenate((graphs_of_x,y.reshape(1,len(y))),axis=0)\n",
    "        Graphs_of_a_Projektion.append([x,graphs_of_x])\n",
    "    return(Graphs_of_a_Projektion)"
   ]
  },
  {
   "cell_type": "code",
   "execution_count": 6,
   "id": "c6fe51c5-14bb-4339-933d-685cf28e483c",
   "metadata": {},
   "outputs": [],
   "source": [
    "def Matrix_of_the_leqs_(k):\n",
    "    L=list(it.combinations(range(1,k+1),2))\n",
    "    M=np.zeros((2*k,len(L)),int)\n",
    "    for i in range(1,k+1):\n",
    "        for j in range(len(L)):\n",
    "            if i == L[j][0]:\n",
    "                M[i-1,j]=1\n",
    "                M[k+i-1,j]=1\n",
    "            elif i==L[j][1]:\n",
    "                M[i-1,j]=1\n",
    "                M[k+i-1,j]=-1\n",
    "    return(M)"
   ]
  },
  {
   "cell_type": "code",
   "execution_count": 22,
   "id": "a45df0f1-0c6e-421f-8b29-e9d208041c3f",
   "metadata": {},
   "outputs": [],
   "source": [
    "W=np.array([1,2,3,4])\n",
    "Projektions_and_its_Graphs1=Projektions_and_its_Graphs(W)"
   ]
  },
  {
   "cell_type": "code",
   "execution_count": 23,
   "id": "8fd0cedb-bb1f-4da5-885f-8ec2b69c255e",
   "metadata": {},
   "outputs": [],
   "source": [
    "Matrix=Matrix_of_the_leqs_(len(W))"
   ]
  },
  {
   "cell_type": "code",
   "execution_count": 24,
   "id": "cf21104d-9ff9-477a-a4fc-a35a7c0f88ac",
   "metadata": {},
   "outputs": [
    {
     "data": {
      "text/plain": [
       "array([[ 1,  1,  1,  0,  0,  0],\n",
       "       [ 1,  0,  0,  1,  1,  0],\n",
       "       [ 0,  1,  0,  1,  0,  1],\n",
       "       [ 0,  0,  1,  0,  1,  1],\n",
       "       [ 1,  1,  1,  0,  0,  0],\n",
       "       [-1,  0,  0,  1,  1,  0],\n",
       "       [ 0, -1,  0, -1,  0,  1],\n",
       "       [ 0,  0, -1,  0, -1, -1]])"
      ]
     },
     "execution_count": 24,
     "metadata": {},
     "output_type": "execute_result"
    }
   ],
   "source": [
    "Matrix"
   ]
  },
  {
   "cell_type": "code",
   "execution_count": 41,
   "id": "34f2da58-ae56-476e-87ed-6a1717d5c1e9",
   "metadata": {},
   "outputs": [],
   "source": [
    "Rightside_Equqtion_system=[]\n",
    "for x in Projektions_and_its_Graphs1:\n",
    "    v=[]\n",
    "    for y in x[1]:\n",
    "        v.append(np.concatenate((y,x[0])))\n",
    "    Rightside_Equqtion_system.append([x[0],v])"
   ]
  },
  {
   "cell_type": "code",
   "execution_count": 42,
   "id": "fb5c7156-3160-49b7-a49d-7a08f3ee6c09",
   "metadata": {},
   "outputs": [],
   "source": [
    "from sympy import Matrix, symbols, linsolve"
   ]
  },
  {
   "cell_type": "code",
   "execution_count": 43,
   "id": "b1d61e72-a868-47db-8d57-e2fb7445d296",
   "metadata": {},
   "outputs": [
    {
     "ename": "ValueError",
     "evalue": "Invalid arguments",
     "output_type": "error",
     "traceback": [
      "\u001b[0;31m\u001b[0m",
      "\u001b[0;31mValueError\u001b[0mTraceback (most recent call last)",
      "\u001b[0;32m<ipython-input-43-5096b858e20f>\u001b[0m in \u001b[0;36m<module>\u001b[0;34m\u001b[0m\n\u001b[0;32m----> 1\u001b[0;31m \u001b[0mlinsolve\u001b[0m\u001b[0;34m(\u001b[0m\u001b[0mMatrix\u001b[0m\u001b[0;34m,\u001b[0m\u001b[0mRightside_Equqtion_system\u001b[0m\u001b[0;34m[\u001b[0m\u001b[0;36m0\u001b[0m\u001b[0;34m]\u001b[0m\u001b[0;34m[\u001b[0m\u001b[0;36m1\u001b[0m\u001b[0;34m]\u001b[0m\u001b[0;34m[\u001b[0m\u001b[0;36m0\u001b[0m\u001b[0;34m]\u001b[0m\u001b[0;34m)\u001b[0m\u001b[0;34m\u001b[0m\u001b[0;34m\u001b[0m\u001b[0m\n\u001b[0m",
      "\u001b[0;32m/opt/conda/lib/python3.9/site-packages/sympy/solvers/solveset.py\u001b[0m in \u001b[0;36mlinsolve\u001b[0;34m(system, *symbols)\u001b[0m\n\u001b[1;32m   2793\u001b[0m \u001b[0;34m\u001b[0m\u001b[0m\n\u001b[1;32m   2794\u001b[0m     \u001b[0;32mif\u001b[0m \u001b[0mb\u001b[0m \u001b[0;32mis\u001b[0m \u001b[0;32mNone\u001b[0m\u001b[0;34m:\u001b[0m\u001b[0;34m\u001b[0m\u001b[0;34m\u001b[0m\u001b[0m\n\u001b[0;32m-> 2795\u001b[0;31m         \u001b[0;32mraise\u001b[0m \u001b[0mValueError\u001b[0m\u001b[0;34m(\u001b[0m\u001b[0;34m\"Invalid arguments\"\u001b[0m\u001b[0;34m)\u001b[0m\u001b[0;34m\u001b[0m\u001b[0;34m\u001b[0m\u001b[0m\n\u001b[0m\u001b[1;32m   2796\u001b[0m \u001b[0;34m\u001b[0m\u001b[0m\n\u001b[1;32m   2797\u001b[0m     \u001b[0msyms_needed_msg\u001b[0m  \u001b[0;34m=\u001b[0m \u001b[0msyms_needed_msg\u001b[0m \u001b[0;32mor\u001b[0m \u001b[0;34m'columns of A'\u001b[0m\u001b[0;34m\u001b[0m\u001b[0;34m\u001b[0m\u001b[0m\n",
      "\u001b[0;31mValueError\u001b[0m: Invalid arguments"
     ]
    }
   ],
   "source": [
    "linsolve(Matrix,Rightside_Equqtion_system[0][1][0])"
   ]
  },
  {
   "cell_type": "code",
   "execution_count": 33,
   "id": "f3465c3a-8c66-47ab-9c90-886a16e7c3d3",
   "metadata": {},
   "outputs": [
    {
     "data": {
      "text/plain": [
       "array([ 1,  0,  1,  0,  1,  0, -1,  0])"
      ]
     },
     "execution_count": 33,
     "metadata": {},
     "output_type": "execute_result"
    }
   ],
   "source": [
    "Equqtion_system[0][1][0]"
   ]
  },
  {
   "cell_type": "code",
   "execution_count": 39,
   "id": "b0080bd0-440a-4bf1-a475-d4d137150b46",
   "metadata": {},
   "outputs": [
    {
     "data": {
      "text/plain": [
       "[]"
      ]
     },
     "execution_count": 39,
     "metadata": {},
     "output_type": "execute_result"
    }
   ],
   "source": [
    "Rightside_Equqtion_system"
   ]
  },
  {
   "cell_type": "code",
   "execution_count": null,
   "id": "8322b979-2252-49cd-bc19-b25373f440cd",
   "metadata": {},
   "outputs": [],
   "source": []
  }
 ],
 "metadata": {
  "kernelspec": {
   "display_name": "Python 3",
   "language": "python",
   "name": "python3"
  },
  "language_info": {
   "codemirror_mode": {
    "name": "ipython",
    "version": 3
   },
   "file_extension": ".py",
   "mimetype": "text/x-python",
   "name": "python",
   "nbconvert_exporter": "python",
   "pygments_lexer": "ipython3",
   "version": "3.9.2"
  }
 },
 "nbformat": 4,
 "nbformat_minor": 5
}
